{
 "cells": [
  {
   "cell_type": "markdown",
   "metadata": {},
   "source": [
    "# Julia - Day 3"
   ]
  },
  {
   "cell_type": "markdown",
   "metadata": {},
   "source": [
    "https://adventofcode.com/2021/day/3"
   ]
  },
  {
   "cell_type": "markdown",
   "metadata": {},
   "source": [
    "## Data"
   ]
  },
  {
   "cell_type": "code",
   "execution_count": 1,
   "metadata": {},
   "outputs": [
    {
     "data": {
      "text/html": [
       "<div class=\"data-frame\"><p>1,000 rows × 1 columns</p><table class=\"data-frame\"><thead><tr><th></th><th>binary_diagnostic</th></tr><tr><th></th><th title=\"String\">String</th></tr></thead><tbody><tr><th>1</th><td>000110000001</td></tr><tr><th>2</th><td>011011001101</td></tr><tr><th>3</th><td>001101100111</td></tr><tr><th>4</th><td>001101011001</td></tr><tr><th>5</th><td>110111011101</td></tr><tr><th>6</th><td>110011101010</td></tr><tr><th>7</th><td>111101010001</td></tr><tr><th>8</th><td>010100111101</td></tr><tr><th>9</th><td>011000011000</td></tr><tr><th>10</th><td>001110110011</td></tr><tr><th>11</th><td>001100010110</td></tr><tr><th>12</th><td>110111101100</td></tr><tr><th>13</th><td>110001111100</td></tr><tr><th>14</th><td>001011111100</td></tr><tr><th>15</th><td>000000011010</td></tr><tr><th>16</th><td>110101100111</td></tr><tr><th>17</th><td>011000011111</td></tr><tr><th>18</th><td>011000000111</td></tr><tr><th>19</th><td>011111000110</td></tr><tr><th>20</th><td>100101110111</td></tr><tr><th>21</th><td>010101001110</td></tr><tr><th>22</th><td>111101000011</td></tr><tr><th>23</th><td>010010010110</td></tr><tr><th>24</th><td>100100011111</td></tr><tr><th>&vellip;</th><td>&vellip;</td></tr></tbody></table></div>"
      ],
      "text/latex": [
       "\\begin{tabular}{r|c}\n",
       "\t& binary\\_diagnostic\\\\\n",
       "\t\\hline\n",
       "\t& String\\\\\n",
       "\t\\hline\n",
       "\t1 & 000110000001 \\\\\n",
       "\t2 & 011011001101 \\\\\n",
       "\t3 & 001101100111 \\\\\n",
       "\t4 & 001101011001 \\\\\n",
       "\t5 & 110111011101 \\\\\n",
       "\t6 & 110011101010 \\\\\n",
       "\t7 & 111101010001 \\\\\n",
       "\t8 & 010100111101 \\\\\n",
       "\t9 & 011000011000 \\\\\n",
       "\t10 & 001110110011 \\\\\n",
       "\t11 & 001100010110 \\\\\n",
       "\t12 & 110111101100 \\\\\n",
       "\t13 & 110001111100 \\\\\n",
       "\t14 & 001011111100 \\\\\n",
       "\t15 & 000000011010 \\\\\n",
       "\t16 & 110101100111 \\\\\n",
       "\t17 & 011000011111 \\\\\n",
       "\t18 & 011000000111 \\\\\n",
       "\t19 & 011111000110 \\\\\n",
       "\t20 & 100101110111 \\\\\n",
       "\t21 & 010101001110 \\\\\n",
       "\t22 & 111101000011 \\\\\n",
       "\t23 & 010010010110 \\\\\n",
       "\t24 & 100100011111 \\\\\n",
       "\t$\\dots$ & $\\dots$ \\\\\n",
       "\\end{tabular}\n"
      ],
      "text/plain": [
       "\u001b[1m1000×1 DataFrame\u001b[0m\n",
       "\u001b[1m  Row \u001b[0m│\u001b[1m binary_diagnostic \u001b[0m\n",
       "\u001b[1m      \u001b[0m│\u001b[90m String            \u001b[0m\n",
       "──────┼───────────────────\n",
       "    1 │ 000110000001\n",
       "    2 │ 011011001101\n",
       "    3 │ 001101100111\n",
       "    4 │ 001101011001\n",
       "    5 │ 110111011101\n",
       "    6 │ 110011101010\n",
       "    7 │ 111101010001\n",
       "    8 │ 010100111101\n",
       "  ⋮   │         ⋮\n",
       "  994 │ 101111111100\n",
       "  995 │ 110011111101\n",
       "  996 │ 100001111110\n",
       "  997 │ 011101111000\n",
       "  998 │ 101010000111\n",
       "  999 │ 101110011111\n",
       " 1000 │ 101000010101\n",
       "\u001b[36m          985 rows omitted\u001b[0m"
      ]
     },
     "metadata": {},
     "output_type": "display_data"
    }
   ],
   "source": [
    "using CSV\n",
    "using DataFrames\n",
    "\n",
    "example = CSV.read(\n",
    "    IOBuffer(\n",
    "    \"\"\"00100\n",
    "    11110\n",
    "    10110\n",
    "    10111\n",
    "    10101\n",
    "    01111\n",
    "    00111\n",
    "    11100\n",
    "    10000\n",
    "    11001\n",
    "    00010\n",
    "    01010\"\"\"),\n",
    "    DataFrame,\n",
    "    header = false,\n",
    "    types = Dict(1 => String)\n",
    ")\n",
    "rename!(example, [:binary_diagnostic])\n",
    "replace!(example[!, :binary_diagnostic], r\"\\s\" => \"\") #remove whitespaces\n",
    "\n",
    "input = CSV.read(\"Input/3_1.txt\", DataFrame, header  = false, types = Dict(1 => String))\n",
    "rename!(input, [:binary_diagnostic])"
   ]
  },
  {
   "cell_type": "code",
   "execution_count": 30,
   "metadata": {},
   "outputs": [
    {
     "data": {
      "text/html": [
       "<div class=\"data-frame\"><p>12 rows × 1 columns</p><table class=\"data-frame\"><thead><tr><th></th><th>binary_diagnostic</th></tr><tr><th></th><th title=\"String\">String</th></tr></thead><tbody><tr><th>1</th><td>00100</td></tr><tr><th>2</th><td>11110</td></tr><tr><th>3</th><td>10110</td></tr><tr><th>4</th><td>10111</td></tr><tr><th>5</th><td>10101</td></tr><tr><th>6</th><td>01111</td></tr><tr><th>7</th><td>00111</td></tr><tr><th>8</th><td>11100</td></tr><tr><th>9</th><td>10000</td></tr><tr><th>10</th><td>11001</td></tr><tr><th>11</th><td>00010</td></tr><tr><th>12</th><td>01010</td></tr></tbody></table></div>"
      ],
      "text/latex": [
       "\\begin{tabular}{r|c}\n",
       "\t& binary\\_diagnostic\\\\\n",
       "\t\\hline\n",
       "\t& String\\\\\n",
       "\t\\hline\n",
       "\t1 & 00100 \\\\\n",
       "\t2 & 11110 \\\\\n",
       "\t3 & 10110 \\\\\n",
       "\t4 & 10111 \\\\\n",
       "\t5 & 10101 \\\\\n",
       "\t6 & 01111 \\\\\n",
       "\t7 & 00111 \\\\\n",
       "\t8 & 11100 \\\\\n",
       "\t9 & 10000 \\\\\n",
       "\t10 & 11001 \\\\\n",
       "\t11 & 00010 \\\\\n",
       "\t12 & 01010 \\\\\n",
       "\\end{tabular}\n"
      ],
      "text/plain": [
       "\u001b[1m12×1 DataFrame\u001b[0m\n",
       "\u001b[1m Row \u001b[0m│\u001b[1m binary_diagnostic \u001b[0m\n",
       "\u001b[1m     \u001b[0m│\u001b[90m String            \u001b[0m\n",
       "─────┼───────────────────\n",
       "   1 │ 00100\n",
       "   2 │ 11110\n",
       "   3 │ 10110\n",
       "   4 │ 10111\n",
       "   5 │ 10101\n",
       "   6 │ 01111\n",
       "   7 │ 00111\n",
       "   8 │ 11100\n",
       "   9 │ 10000\n",
       "  10 │ 11001\n",
       "  11 │ 00010\n",
       "  12 │ 01010"
      ]
     },
     "metadata": {},
     "output_type": "display_data"
    }
   ],
   "source": [
    "\n",
    "example"
   ]
  },
  {
   "cell_type": "code",
   "execution_count": 12,
   "metadata": {},
   "outputs": [
    {
     "data": {
      "text/html": [
       "<div class=\"data-frame\"><p>5 rows × 1 columns</p><table class=\"data-frame\"><thead><tr><th></th><th>binary_diagnostic</th></tr><tr><th></th><th title=\"String\">String</th></tr></thead><tbody><tr><th>1</th><td>000110000001</td></tr><tr><th>2</th><td>011011001101</td></tr><tr><th>3</th><td>001101100111</td></tr><tr><th>4</th><td>001101011001</td></tr><tr><th>5</th><td>110111011101</td></tr></tbody></table></div>"
      ],
      "text/latex": [
       "\\begin{tabular}{r|c}\n",
       "\t& binary\\_diagnostic\\\\\n",
       "\t\\hline\n",
       "\t& String\\\\\n",
       "\t\\hline\n",
       "\t1 & 000110000001 \\\\\n",
       "\t2 & 011011001101 \\\\\n",
       "\t3 & 001101100111 \\\\\n",
       "\t4 & 001101011001 \\\\\n",
       "\t5 & 110111011101 \\\\\n",
       "\\end{tabular}\n"
      ],
      "text/plain": [
       "\u001b[1m5×1 DataFrame\u001b[0m\n",
       "\u001b[1m Row \u001b[0m│\u001b[1m binary_diagnostic \u001b[0m\n",
       "\u001b[1m     \u001b[0m│\u001b[90m String            \u001b[0m\n",
       "─────┼───────────────────\n",
       "   1 │ 000110000001\n",
       "   2 │ 011011001101\n",
       "   3 │ 001101100111\n",
       "   4 │ 001101011001\n",
       "   5 │ 110111011101"
      ]
     },
     "metadata": {},
     "output_type": "display_data"
    }
   ],
   "source": [
    "first(input, 5)"
   ]
  },
  {
   "cell_type": "markdown",
   "metadata": {},
   "source": [
    "## Part 1"
   ]
  },
  {
   "cell_type": "markdown",
   "metadata": {},
   "source": [
    "### Function"
   ]
  },
  {
   "cell_type": "code",
   "execution_count": 79,
   "metadata": {},
   "outputs": [
    {
     "data": {
      "text/plain": [
       "power_consumption (generic function with 1 method)"
      ]
     },
     "metadata": {},
     "output_type": "display_data"
    }
   ],
   "source": [
    "function power_consumption_data(binary_diag)\n",
    "    string_len = length(binary_diag[1, :binary_diagnostic])\n",
    "\n",
    "    #split each diagnostic by digit\n",
    "    split_strings = split.(binary_diag[!, :binary_diagnostic], \"\")\n",
    "    colnames = Symbol.(string.(\"L\", 1:string_len))\n",
    "\n",
    "    for (i, n) in enumerate(colnames)\n",
    "        # create a column for each ith letter in :binary_diagnostic\n",
    "        binary_diag[!, n] = getindex.(split_strings, i)\n",
    "    end\n",
    "\n",
    "    binary_diag = stack(binary_diag, Not(:binary_diagnostic))\n",
    "\n",
    "    # count number of 0 and 1 for each position\n",
    "    binary_diag = groupby(binary_diag, [:variable, :value])\n",
    "    binary_diag = combine(\n",
    "        binary_diag,\n",
    "        nrow        \n",
    "    )\n",
    "\n",
    "    # gamma rate and epsilon rate\n",
    "    binary_diag = groupby(binary_diag, :variable)\n",
    "    binary_diag = combine(\n",
    "        binary_diag,\n",
    "        [:value, :nrow] => (\n",
    "            (value, nrow) -> (\n",
    "                gamma_rate = value[argmax(nrow)],\n",
    "                epsilon_rate = value[argmin(nrow)]\n",
    "            ) \n",
    "        ) => AsTable\n",
    "    )\n",
    " \n",
    "    result = DataFrame(\n",
    "        rate = [\"gamma\", \"epsilon\"],\n",
    "        binary = [reduce(string, binary_diag[!, \"gamma_rate\"]), reduce(string, binary_diag[!, \"epsilon_rate\"])]\n",
    "    )\n",
    "    result[!, :decimal] = parse.(Int, result[!, :binary], base = 2)\n",
    "\n",
    "    return result\n",
    "\n",
    "end\n",
    "\n",
    "\n",
    "function power_consumption(power_consumption_data) \n",
    "    return power_cons_data[power_cons_data.rate .== \"gamma\", :decimal] .* power_cons_data[power_cons_data.rate .== \"epsilon\", :decimal]\n",
    "end"
   ]
  },
  {
   "cell_type": "markdown",
   "metadata": {},
   "source": [
    "### Result"
   ]
  },
  {
   "cell_type": "code",
   "execution_count": 81,
   "metadata": {},
   "outputs": [
    {
     "name": "stdout",
     "output_type": "stream",
     "text": [
      "Example : [198]\n",
      "Input : [3429254]\n"
     ]
    }
   ],
   "source": [
    "#Example\n",
    "power_cons_data = power_consumption_data(example)\n",
    "result = power_consumption(power_cons_data)\n",
    "println(\n",
    "    string(\"Example : \", result)\n",
    ")\n",
    "\n",
    "#Input\n",
    "power_cons_data = power_consumption_data(input)\n",
    "result = power_consumption(power_cons_data)\n",
    "println(\n",
    "    string(\"Input : \", result)\n",
    ")\n"
   ]
  },
  {
   "cell_type": "markdown",
   "metadata": {},
   "source": [
    "## Part 2"
   ]
  },
  {
   "cell_type": "markdown",
   "metadata": {},
   "source": [
    "### Function"
   ]
  },
  {
   "cell_type": "code",
   "execution_count": 14,
   "metadata": {},
   "outputs": [
    {
     "data": {
      "text/plain": [
       "life_support_rating (generic function with 1 method)"
      ]
     },
     "metadata": {},
     "output_type": "display_data"
    }
   ],
   "source": [
    "function oxygen_generator_rating(binary_diag)\n",
    "\n",
    "    string_len = length(binary_diag[1, :binary_diagnostic])\n",
    "\n",
    "    #split each diagnostic by digit\n",
    "    split_strings = split.(binary_diag[!, :binary_diagnostic], \"\")\n",
    "    colnames = Symbol.(string.(\"L\", 1:string_len))\n",
    "\n",
    "    for (i, n) in enumerate(colnames)\n",
    "        # create a column for each ith letter in :binary_diagnostic\n",
    "        binary_diag[!, n] = getindex.(split_strings, i)\n",
    "    end\n",
    "\n",
    "    \n",
    "    # Oxygen cryteria, iter over each col until only one number left\n",
    "    n_number = nrow(binary_diag)\n",
    "\n",
    "    i = 1\n",
    "\n",
    "    while n_number > 1\n",
    "\n",
    "        # count zeros and ones for bit i\n",
    "        bit_criteria = binary_diag[!, colnames[i]]\n",
    "        zeros = count(bit_criteria .== \"0\")\n",
    "        ones = count(bit_criteria .== \"1\")\n",
    "\n",
    "        # keep bit starting with 0 if more zero than one\n",
    "        if zeros > ones\n",
    "            bit_criteria = \"0\"\n",
    "        elseif ones >= zeros\n",
    "            bit_criteria = \"1\"\n",
    "        end\n",
    "\n",
    "        #filter with criteria\n",
    "        binary_diag = filter(colnames[i] => ==(bit_criteria), binary_diag)\n",
    "\n",
    "        n_number = nrow(binary_diag)\n",
    "        i += 1\n",
    "\n",
    "    end\n",
    "\n",
    "\n",
    "    result = DataFrame(\n",
    "        rate = \"oxygen_generator\",\n",
    "        binary = binary_diag[!, :binary_diagnostic]\n",
    "    )\n",
    "    result[!, :decimal] = parse.(Int, result[!, :binary], base = 2)\n",
    "\n",
    "    return result\n",
    "\n",
    "end\n",
    "\n",
    "\n",
    "function CO2_scrubber_rating(binary_diag)\n",
    "\n",
    "    string_len = length(binary_diag[1, :binary_diagnostic])\n",
    "\n",
    "    #split each diagnostic by digit\n",
    "    split_strings = split.(binary_diag[!, :binary_diagnostic], \"\")\n",
    "    colnames = Symbol.(string.(\"L\", 1:string_len))\n",
    "\n",
    "    for (i, n) in enumerate(colnames)\n",
    "        # create a column for each ith letter in :binary_diagnostic\n",
    "        binary_diag[!, n] = getindex.(split_strings, i)\n",
    "    end\n",
    "\n",
    "    \n",
    "    # Oxygen cryteria, iter over each col until only one number left\n",
    "    n_number = nrow(binary_diag)\n",
    "\n",
    "    i = 1\n",
    "\n",
    "    while n_number > 1\n",
    "\n",
    "        # count zeros and ones for bit i\n",
    "        bit_criteria = binary_diag[!, colnames[i]]\n",
    "        zeros = count(bit_criteria .== \"0\")\n",
    "        ones = count(bit_criteria .== \"1\")\n",
    "\n",
    "        # keep bit starting with 0 if more zero than one\n",
    "        if ones >= zeros\n",
    "            bit_criteria = \"0\"\n",
    "        elseif zeros > ones\n",
    "            bit_criteria = \"1\"\n",
    "        end\n",
    "\n",
    "        #filter with criteria\n",
    "        binary_diag = filter(colnames[i] => ==(bit_criteria), binary_diag)\n",
    "\n",
    "        n_number = nrow(binary_diag)\n",
    "        i += 1\n",
    "\n",
    "    end\n",
    "\n",
    "    result = DataFrame(\n",
    "        rate = \"CO2_scrubber\",\n",
    "        binary = binary_diag[!, :binary_diagnostic]\n",
    "    )\n",
    "    result[!, :decimal] = parse.(Int, result[!, :binary], base = 2)\n",
    "\n",
    "    return result\n",
    "\n",
    "end\n",
    "\n",
    "\n",
    "function life_support_rating(oxygen_generator_data, CO2_scrubber_data)\n",
    "\n",
    "    result = DataFrame(\n",
    "        rate = \"life_support\",\n",
    "        decimal = oxygen_generator_data[!, :decimal] .* CO2_scrubber_data[!, :decimal]\n",
    "    )\n",
    "    result[!, :binary] = [reduce(string, reverse(digits(first(result[!, :decimal]), base=2)))]\n",
    "\n",
    "    return result\n",
    "    \n",
    "end"
   ]
  },
  {
   "cell_type": "markdown",
   "metadata": {},
   "source": [
    "### Result"
   ]
  },
  {
   "cell_type": "code",
   "execution_count": 18,
   "metadata": {},
   "outputs": [
    {
     "name": "stdout",
     "output_type": "stream",
     "text": [
      "Example : [230]\n",
      "Input : [5410338]\n"
     ]
    }
   ],
   "source": [
    "#Example\n",
    "CO2_scrubber_data = CO2_scrubber_rating(example)\n",
    "oxygen_generator_data = oxygen_generator_rating(example)\n",
    "life_support_data = life_support_rating(oxygen_generator_data, CO2_scrubber_data)\n",
    "\n",
    "result = life_support_data[!, :decimal]\n",
    "\n",
    "println(\n",
    "    string(\"Example : \", result)\n",
    ")\n",
    "#Input\n",
    "CO2_scrubber_data = CO2_scrubber_rating(input)\n",
    "oxygen_generator_data = oxygen_generator_rating(input)\n",
    "life_support_data = life_support_rating(oxygen_generator_data, CO2_scrubber_data)\n",
    "\n",
    "result = life_support_data[!, :decimal]\n",
    "\n",
    "println(\n",
    "    string(\"Input : \", result)\n",
    ")\n"
   ]
  }
 ],
 "metadata": {
  "kernelspec": {
   "display_name": "Julia 1.7.0",
   "language": "julia",
   "name": "julia-1.7"
  },
  "language_info": {
   "file_extension": ".jl",
   "mimetype": "application/julia",
   "name": "julia",
   "version": "1.7.0"
  },
  "orig_nbformat": 4
 },
 "nbformat": 4,
 "nbformat_minor": 2
}
