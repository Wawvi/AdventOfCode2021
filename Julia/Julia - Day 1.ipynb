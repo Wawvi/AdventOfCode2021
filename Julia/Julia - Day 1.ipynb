{
 "cells": [
  {
   "cell_type": "markdown",
   "metadata": {},
   "source": [
    "# Julia - Day 1"
   ]
  },
  {
   "cell_type": "markdown",
   "metadata": {},
   "source": [
    "https://adventofcode.com/2021/day/1"
   ]
  },
  {
   "cell_type": "markdown",
   "metadata": {},
   "source": [
    "## Data"
   ]
  },
  {
   "cell_type": "code",
   "execution_count": 31,
   "metadata": {},
   "outputs": [
    {
     "data": {
      "text/plain": [
       "10-element Vector{Int64}:\n",
       " 199\n",
       " 200\n",
       " 208\n",
       " 210\n",
       " 200\n",
       " 207\n",
       " 240\n",
       " 269\n",
       " 260\n",
       " 263"
      ]
     },
     "metadata": {},
     "output_type": "display_data"
    }
   ],
   "source": [
    "example = Vector{Int64}([199, 200, 208, 210, 200, 207, 240, 269, 260, 263])"
   ]
  },
  {
   "cell_type": "code",
   "execution_count": 47,
   "metadata": {},
   "outputs": [
    {
     "data": {
      "text/plain": [
       "2000-element Vector{Int64}:\n",
       "  140\n",
       "  154\n",
       "  165\n",
       "  150\n",
       "  151\n",
       "  161\n",
       "  172\n",
       "  174\n",
       "  166\n",
       "  168\n",
       "    ⋮\n",
       " 3557\n",
       " 3569\n",
       " 3571\n",
       " 3563\n",
       " 3575\n",
       " 3587\n",
       " 3591\n",
       " 3595\n",
       " 3596"
      ]
     },
     "metadata": {},
     "output_type": "display_data"
    }
   ],
   "source": [
    "input = readlines(\"Input/1_1.txt\")\n",
    "input = parse.(Int, input)"
   ]
  },
  {
   "cell_type": "markdown",
   "metadata": {},
   "source": [
    "## Part 1"
   ]
  },
  {
   "cell_type": "markdown",
   "metadata": {},
   "source": [
    "### Function"
   ]
  },
  {
   "cell_type": "code",
   "execution_count": 11,
   "metadata": {},
   "outputs": [
    {
     "data": {
      "text/plain": [
       "is_increasing (generic function with 1 method)"
      ]
     },
     "metadata": {},
     "output_type": "display_data"
    }
   ],
   "source": [
    "\n",
    "function is_increasing(input)\n",
    "    result = Array{Union{Missing, Bool}}(missing, length(input))\n",
    "    for i in 2:length(input)\n",
    "        result[i] = input[i] > input[i-1]\n",
    "    end\n",
    "    return result\n",
    "end\n"
   ]
  },
  {
   "cell_type": "markdown",
   "metadata": {},
   "source": [
    "### Result"
   ]
  },
  {
   "cell_type": "code",
   "execution_count": 48,
   "metadata": {},
   "outputs": [
    {
     "name": "stdout",
     "output_type": "stream",
     "text": [
      "Example : 7\n",
      "Input : 1298\n"
     ]
    }
   ],
   "source": [
    "# Example\n",
    "println(string(\"Example : \",  count(skipmissing(is_increasing(example)))))\n",
    "\n",
    "# Input\n",
    "println(string(\"Input : \", count(skipmissing(is_increasing(input)))))"
   ]
  },
  {
   "cell_type": "markdown",
   "metadata": {},
   "source": [
    "## Part 2"
   ]
  },
  {
   "cell_type": "markdown",
   "metadata": {},
   "source": [
    "### Function"
   ]
  },
  {
   "cell_type": "code",
   "execution_count": 91,
   "metadata": {},
   "outputs": [
    {
     "data": {
      "text/plain": [
       "sliding_window_sum (generic function with 2 methods)"
      ]
     },
     "metadata": {},
     "output_type": "display_data"
    }
   ],
   "source": [
    "function sliding_window_sum(input, window = 3)\n",
    "    max_len = length(input) - (window - 1)\n",
    "    result = zeros(Int64, max_len)\n",
    "\n",
    "    for i in 1:max_len\n",
    "        result[i] = sum(input[i:(i + window - 1)])\n",
    "    end\n",
    "\n",
    "    return result\n",
    "\n",
    "end"
   ]
  },
  {
   "cell_type": "markdown",
   "metadata": {},
   "source": [
    "### Result"
   ]
  },
  {
   "cell_type": "code",
   "execution_count": 94,
   "metadata": {},
   "outputs": [
    {
     "name": "stdout",
     "output_type": "stream",
     "text": [
      "Example : 5\n",
      "Input : 1248\n"
     ]
    }
   ],
   "source": [
    "# example \n",
    "result = sliding_window_sum(example)\n",
    "result = is_increasing(result)\n",
    "result = count(skipmissing(result))\n",
    "println(string(\"Example : \",  result))\n",
    "\n",
    "# input \n",
    "result = sliding_window_sum(input)\n",
    "result = is_increasing(result)\n",
    "result = count(skipmissing(result))\n",
    "println(string(\"Input : \",  result))"
   ]
  }
 ],
 "metadata": {
  "interpreter": {
   "hash": "d7077cd4f0110cf56b68be09d8c98dad0cd4c1457c23ccb655792174161d32c0"
  },
  "kernelspec": {
   "display_name": "Julia 1.7.0",
   "language": "julia",
   "name": "julia-1.7"
  },
  "language_info": {
   "file_extension": ".jl",
   "mimetype": "application/julia",
   "name": "julia",
   "version": "1.7.0"
  },
  "orig_nbformat": 4
 },
 "nbformat": 4,
 "nbformat_minor": 2
}
