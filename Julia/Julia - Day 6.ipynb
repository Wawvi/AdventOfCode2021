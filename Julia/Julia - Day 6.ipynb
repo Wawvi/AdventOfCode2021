{
 "cells": [
  {
   "cell_type": "markdown",
   "metadata": {},
   "source": [
    "# Julia - Day 6"
   ]
  },
  {
   "cell_type": "markdown",
   "metadata": {},
   "source": [
    "https://adventofcode.com/2021/day/6"
   ]
  },
  {
   "cell_type": "markdown",
   "metadata": {},
   "source": [
    "## Data"
   ]
  },
  {
   "cell_type": "code",
   "execution_count": 4,
   "metadata": {},
   "outputs": [
    {
     "data": {
      "text/plain": [
       "300-element Vector{Int64}:\n",
       " 3\n",
       " 5\n",
       " 4\n",
       " 1\n",
       " 2\n",
       " 1\n",
       " 5\n",
       " 5\n",
       " 1\n",
       " 1\n",
       " ⋮\n",
       " 1\n",
       " 1\n",
       " 3\n",
       " 1\n",
       " 1\n",
       " 1\n",
       " 1\n",
       " 1\n",
       " 1"
      ]
     },
     "metadata": {},
     "output_type": "display_data"
    }
   ],
   "source": [
    "example = Int64[3, 4, 3, 1, 2]\n",
    "input = read(\"Input/6_1.txt\", String)\n",
    "input = split.(input, \",\")\n",
    "input = parse.(Int64, input)"
   ]
  },
  {
   "cell_type": "markdown",
   "metadata": {},
   "source": [
    "## Part 1"
   ]
  },
  {
   "cell_type": "markdown",
   "metadata": {},
   "source": [
    "### Function"
   ]
  },
  {
   "cell_type": "code",
   "execution_count": 2,
   "metadata": {},
   "outputs": [
    {
     "data": {
      "text/plain": [
       "lanternfish_cycle! (generic function with 1 method)"
      ]
     },
     "metadata": {},
     "output_type": "display_data"
    }
   ],
   "source": [
    "function day!(data)\n",
    "    #reduce timer\n",
    "    data .-= 1\n",
    "\n",
    "    #count number of new fish and reset timer that are -1\n",
    "    n_newfish = length(findall(data .< 0))\n",
    "    data[data .< 0] .= 6\n",
    "\n",
    "    #add new fish\n",
    "    if n_newfish > 0\n",
    "        append!(data, repeat([8], n_newfish))\n",
    "    end\n",
    "end\n",
    "\n",
    "function lanternfish_cycle!(data, n_day)\n",
    "    for _ in 1:n_day\n",
    "        day!(data)\n",
    "    end\n",
    "end"
   ]
  },
  {
   "cell_type": "markdown",
   "metadata": {},
   "source": [
    "### Result"
   ]
  },
  {
   "cell_type": "code",
   "execution_count": 3,
   "metadata": {},
   "outputs": [
    {
     "name": "stdout",
     "output_type": "stream",
     "text": [
      "Example : 5934\n",
      "Input : 374927\n"
     ]
    }
   ],
   "source": [
    "#Example\n",
    "lanternfish_cycle!(example, 80)\n",
    "result = length(example)\n",
    "\n",
    "println(\n",
    "    string(\"Example : \", result)\n",
    ")\n",
    "#Input\n",
    "lanternfish_cycle!(input, 80)\n",
    "result = length(input)\n",
    "\n",
    "println(\n",
    "    string(\"Input : \", result)\n",
    ")"
   ]
  },
  {
   "cell_type": "markdown",
   "metadata": {},
   "source": [
    "## Part 2"
   ]
  },
  {
   "cell_type": "markdown",
   "metadata": {},
   "source": [
    "### Function"
   ]
  },
  {
   "cell_type": "markdown",
   "metadata": {},
   "source": [
    "Need to change the way data is represented so as to not get vector that does not fit in RAM."
   ]
  },
  {
   "cell_type": "code",
   "execution_count": 102,
   "metadata": {},
   "outputs": [
    {
     "data": {
      "text/plain": [
       "lanternfish_cycle! (generic function with 1 method)"
      ]
     },
     "metadata": {},
     "output_type": "display_data"
    }
   ],
   "source": [
    "#create a count table with number of fish for each timer value\n",
    "function fish_per_timer(data)\n",
    "    unique_timers = collect(0:8)\n",
    "    count_fish = [count(==(timer), data) for timer in unique_timers]\n",
    "    return hcat(unique_timers, count_fish)\n",
    "end\n",
    "\n",
    "function day!(data)\n",
    "    #reduce timer\n",
    "    data[:, 1] .-= 1\n",
    "\n",
    "    ## add number of fish with timer -1 to timer 6\n",
    "    data[data[:, 1] .== 6, 2] .+= data[data[:, 1] .== -1, 2]\n",
    "        \n",
    "    ## change timer -1 to 8\n",
    "    data[data[:, 1] .== -1, 1] .= 8\n",
    "end\n",
    "\n",
    "function lanternfish_cycle!(data, n_day)\n",
    "    for _ in 1:n_day\n",
    "        day!(data)\n",
    "    end\n",
    "end"
   ]
  },
  {
   "cell_type": "code",
   "execution_count": 111,
   "metadata": {},
   "outputs": [],
   "source": [
    "example = Int64[3, 4, 3, 1, 2]\n",
    "input = read(\"Input/6_1.txt\", String)\n",
    "input = split.(input, \",\")\n",
    "input = parse.(Int64, input);"
   ]
  },
  {
   "cell_type": "markdown",
   "metadata": {},
   "source": [
    "### Result"
   ]
  },
  {
   "cell_type": "code",
   "execution_count": 112,
   "metadata": {},
   "outputs": [
    {
     "name": "stdout",
     "output_type": "stream",
     "text": [
      "Example : 26984457539\n",
      "Input : 1687617803407\n"
     ]
    }
   ],
   "source": [
    "#Example\n",
    "result = fish_per_timer(example)\n",
    "lanternfish_cycle!(result, 256)\n",
    "result = sum(result[:, 2])\n",
    "\n",
    "println(\n",
    "    string(\"Example : \", result)\n",
    ")\n",
    "#Input\n",
    "result = fish_per_timer(input)\n",
    "lanternfish_cycle!(result, 256)\n",
    "result = sum(result[:, 2])\n",
    "println(\n",
    "    string(\"Input : \", result)\n",
    ")"
   ]
  }
 ],
 "metadata": {
  "kernelspec": {
   "display_name": "Julia 1.7.0",
   "language": "julia",
   "name": "julia-1.7"
  },
  "language_info": {
   "file_extension": ".jl",
   "mimetype": "application/julia",
   "name": "julia",
   "version": "1.7.0"
  },
  "orig_nbformat": 4
 },
 "nbformat": 4,
 "nbformat_minor": 2
}
