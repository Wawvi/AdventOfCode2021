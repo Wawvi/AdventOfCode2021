{
 "cells": [
  {
   "cell_type": "markdown",
   "metadata": {},
   "source": [
    "# Julia - Day 4"
   ]
  },
  {
   "cell_type": "markdown",
   "metadata": {},
   "source": [
    "https://adventofcode.com/2021/day/4"
   ]
  },
  {
   "cell_type": "markdown",
   "metadata": {},
   "source": [
    "## Data"
   ]
  },
  {
   "cell_type": "code",
   "execution_count": 63,
   "metadata": {},
   "outputs": [
    {
     "data": {
      "text/plain": [
       "import_bingo_data (generic function with 1 method)"
      ]
     },
     "metadata": {},
     "output_type": "display_data"
    }
   ],
   "source": [
    "function import_bingo_data(input)\n",
    "    input = readlines(input)\n",
    "    draws = parse.(Int, split(input[1], \",\"))\n",
    "\n",
    "    n_tables = (length(input) - 1) / 6\n",
    "    list = [zeros(Int, 5, 5, 2) for _ in 1:n_tables]\n",
    "\n",
    "    for row in 2:length(input)\n",
    "        table = (row - 2) ÷ 6 + 1 #tables are 5x5 matrix starting at line 3 with one blank line\n",
    "        if (row-2) % 6 != 0 #not a blank line\n",
    "            i = (row-2) % 6\n",
    "            list[table][i, :, 1] = parse.(Int, split(input[row], r\"(?<=\\d)\\s+\", limit = 5))\n",
    "        end\n",
    "    end\n",
    "\n",
    "    return Dict(\n",
    "        \"draws\" => draws,\n",
    "        \"bingo_tables\" => list\n",
    "    ) \n",
    "end"
   ]
  },
  {
   "cell_type": "code",
   "execution_count": 80,
   "metadata": {},
   "outputs": [
    {
     "data": {
      "text/plain": [
       "Dict{String, Vector} with 2 entries:\n",
       "  \"draws\"        => [42, 44, 71, 26, 70, 92, 77, 45, 6, 18  …  78, 15, 52, 76, …\n",
       "  \"bingo_tables\" => [[48 69 … 49 13; 25 14 … 74 89; … ; 56 97 … 65 79; 57 52 … …"
      ]
     },
     "metadata": {},
     "output_type": "display_data"
    }
   ],
   "source": [
    "example = import_bingo_data(\"Input/4_example.txt\")\n",
    "input = import_bingo_data(\"Input/4_1.txt\")"
   ]
  },
  {
   "cell_type": "markdown",
   "metadata": {},
   "source": [
    "## Part 1"
   ]
  },
  {
   "cell_type": "markdown",
   "metadata": {},
   "source": [
    "### Function"
   ]
  },
  {
   "cell_type": "code",
   "execution_count": 56,
   "metadata": {},
   "outputs": [
    {
     "data": {
      "text/plain": [
       "bingo (generic function with 1 method)"
      ]
     },
     "metadata": {},
     "output_type": "display_data"
    }
   ],
   "source": [
    "function draw_position(matrice, draw)\n",
    "    return findall(isequal(draw), matrice)\n",
    "end\n",
    "\n",
    "function update_with_draw!(matrice, draw_pos, value = 1)\n",
    "    matrice[draw_pos, 2] .= value\n",
    "end\n",
    "\n",
    "function matrice_colsum(matrice)\n",
    "    return [sum(col) for col in eachcol(matrice)]\n",
    "end\n",
    "\n",
    "function matrice_rowsum(matrice)\n",
    "    return [sum(row) for row in eachrow(matrice)]\n",
    "end\n",
    "\n",
    "function any_bingo(row_sum_vect, col_sum_vect)\n",
    "    return any(row_sum_vect .== 5) || any(col_sum_vect .== 5)\n",
    "end\n",
    "\n",
    "function sum_not_drawn(matrice)\n",
    "    return sum(matrice[findall(isequal(0), matrice[:, :, 2]), 1])\n",
    "end\n",
    "\n",
    "function bingo(data)\n",
    "\n",
    "    for draw in data[\"draws\"]\n",
    "\n",
    "        for i_mat in 1:length(data[\"bingo_tables\"])\n",
    "\n",
    "            draw_pos = draw_position(data[\"bingo_tables\"][i_mat][:, :, 1], draw)\n",
    "            update_with_draw!(data[\"bingo_tables\"][i_mat], draw_pos, 1)\n",
    "            row_sum_vect = matrice_rowsum(data[\"bingo_tables\"][i_mat][:, :, 2])\n",
    "            col_sum_vect = matrice_colsum(data[\"bingo_tables\"][i_mat][:, :, 2])\n",
    "\n",
    "            if any_bingo(row_sum_vect, col_sum_vect)\n",
    "                return sum_not_drawn(data[\"bingo_tables\"][i_mat]) * draw\n",
    "            end\n",
    "\n",
    "        end\n",
    "\n",
    "    end\n",
    "\n",
    "end\n",
    "    \n",
    "    "
   ]
  },
  {
   "cell_type": "markdown",
   "metadata": {},
   "source": [
    "### Result"
   ]
  },
  {
   "cell_type": "code",
   "execution_count": 57,
   "metadata": {},
   "outputs": [
    {
     "name": "stdout",
     "output_type": "stream",
     "text": [
      "Example : 4512\n",
      "Input : 16674\n"
     ]
    }
   ],
   "source": [
    "#Example\n",
    "result = bingo(example)\n",
    "\n",
    "println(\n",
    "    string(\"Example : \", result)\n",
    ")\n",
    "#Input\n",
    "result = bingo(input)\n",
    "\n",
    "println(\n",
    "    string(\"Input : \", result)\n",
    ")"
   ]
  },
  {
   "cell_type": "markdown",
   "metadata": {},
   "source": [
    "## Part 2"
   ]
  },
  {
   "cell_type": "markdown",
   "metadata": {},
   "source": [
    "### Function"
   ]
  },
  {
   "cell_type": "code",
   "execution_count": 73,
   "metadata": {},
   "outputs": [
    {
     "data": {
      "text/plain": [
       "bingo (generic function with 1 method)"
      ]
     },
     "metadata": {},
     "output_type": "display_data"
    }
   ],
   "source": [
    "function bingo(data)\n",
    "\n",
    "    bingo_order = zeros(length(data[\"bingo_tables\"]), 2)\n",
    "    winner_order = 1\n",
    "\n",
    "    for draw in data[\"draws\"]\n",
    "\n",
    "        for i_mat in 1:length(data[\"bingo_tables\"])\n",
    "\n",
    "            draw_pos = draw_position(data[\"bingo_tables\"][i_mat][:, :, 1], draw)\n",
    "            update_with_draw!(data[\"bingo_tables\"][i_mat], draw_pos, 1)\n",
    "            row_sum_vect = matrice_rowsum(data[\"bingo_tables\"][i_mat][:, :, 2])\n",
    "            col_sum_vect = matrice_colsum(data[\"bingo_tables\"][i_mat][:, :, 2])\n",
    "\n",
    "            if any_bingo(row_sum_vect, col_sum_vect)\n",
    "                if !(i_mat in bingo_order[:, 1])\n",
    "                    bingo_order[winner_order, 1] = i_mat\n",
    "                    bingo_order[winner_order, 2] = sum_not_drawn(data[\"bingo_tables\"][i_mat]) * draw\n",
    "                    winner_order += 1\n",
    "                end\n",
    "            end\n",
    "\n",
    "        end\n",
    "\n",
    "    end\n",
    "\n",
    "    return bingo_order[end, :]\n",
    "\n",
    "end"
   ]
  },
  {
   "cell_type": "markdown",
   "metadata": {},
   "source": [
    "### Result"
   ]
  },
  {
   "cell_type": "code",
   "execution_count": 81,
   "metadata": {},
   "outputs": [
    {
     "name": "stdout",
     "output_type": "stream",
     "text": [
      "Example : 1924.0\n",
      "Input : 7075.0\n"
     ]
    }
   ],
   "source": [
    "#Example\n",
    "result = bingo(example)\n",
    "\n",
    "println(\n",
    "    string(\"Example : \", result[2])\n",
    ")\n",
    "#Input\n",
    "result = bingo(input)\n",
    "\n",
    "println(\n",
    "    string(\"Input : \", result[2])\n",
    ")"
   ]
  }
 ],
 "metadata": {
  "kernelspec": {
   "display_name": "Julia 1.7.0",
   "language": "julia",
   "name": "julia-1.7"
  },
  "language_info": {
   "file_extension": ".jl",
   "mimetype": "application/julia",
   "name": "julia",
   "version": "1.7.0"
  },
  "orig_nbformat": 4
 },
 "nbformat": 4,
 "nbformat_minor": 2
}
