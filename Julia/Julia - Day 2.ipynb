{
 "cells": [
  {
   "cell_type": "markdown",
   "metadata": {},
   "source": [
    "# Julia - Day 2"
   ]
  },
  {
   "cell_type": "markdown",
   "metadata": {},
   "source": [
    "https://adventofcode.com/2021/day/2"
   ]
  },
  {
   "cell_type": "markdown",
   "metadata": {},
   "source": [
    "## Data"
   ]
  },
  {
   "cell_type": "code",
   "execution_count": 11,
   "metadata": {},
   "outputs": [
    {
     "data": {
      "text/html": [
       "<div class=\"data-frame\"><p>6 rows × 2 columns</p><table class=\"data-frame\"><thead><tr><th></th><th>instruction</th><th>n_step</th></tr><tr><th></th><th title=\"String\">String</th><th title=\"Int64\">Int64</th></tr></thead><tbody><tr><th>1</th><td>forward</td><td>5</td></tr><tr><th>2</th><td>down</td><td>5</td></tr><tr><th>3</th><td>forward</td><td>8</td></tr><tr><th>4</th><td>up</td><td>3</td></tr><tr><th>5</th><td>down</td><td>8</td></tr><tr><th>6</th><td>forward</td><td>2</td></tr></tbody></table></div>"
      ],
      "text/latex": [
       "\\begin{tabular}{r|cc}\n",
       "\t& instruction & n\\_step\\\\\n",
       "\t\\hline\n",
       "\t& String & Int64\\\\\n",
       "\t\\hline\n",
       "\t1 & forward & 5 \\\\\n",
       "\t2 & down & 5 \\\\\n",
       "\t3 & forward & 8 \\\\\n",
       "\t4 & up & 3 \\\\\n",
       "\t5 & down & 8 \\\\\n",
       "\t6 & forward & 2 \\\\\n",
       "\\end{tabular}\n"
      ],
      "text/plain": [
       "\u001b[1m6×2 DataFrame\u001b[0m\n",
       "\u001b[1m Row \u001b[0m│\u001b[1m instruction \u001b[0m\u001b[1m n_step \u001b[0m\n",
       "\u001b[1m     \u001b[0m│\u001b[90m String      \u001b[0m\u001b[90m Int64  \u001b[0m\n",
       "─────┼─────────────────────\n",
       "   1 │ forward           5\n",
       "   2 │ down              5\n",
       "   3 │ forward           8\n",
       "   4 │ up                3\n",
       "   5 │ down              8\n",
       "   6 │ forward           2"
      ]
     },
     "metadata": {},
     "output_type": "display_data"
    }
   ],
   "source": [
    "using CSV\n",
    "using DataFrames\n",
    "\n",
    "input = CSV.read(\"Input/2_1.txt\", DataFrame, delim = \" \", header = false)\n",
    "rename!(input, [:instruction, :n_step])\n",
    "example = DataFrame(\n",
    "    instruction = String[\"forward\", \"down\", \"forward\", \"up\", \"down\", \"forward\"],\n",
    "    n_step = Int64[5, 5, 8, 3, 8, 2]\n",
    ")"
   ]
  },
  {
   "cell_type": "code",
   "execution_count": 20,
   "metadata": {},
   "outputs": [
    {
     "data": {
      "text/html": [
       "<div class=\"data-frame\"><p>5 rows × 2 columns</p><table class=\"data-frame\"><thead><tr><th></th><th>instruction</th><th>n_step</th></tr><tr><th></th><th title=\"String7\">String7</th><th title=\"Int64\">Int64</th></tr></thead><tbody><tr><th>1</th><td>forward</td><td>9</td></tr><tr><th>2</th><td>down</td><td>3</td></tr><tr><th>3</th><td>down</td><td>8</td></tr><tr><th>4</th><td>forward</td><td>2</td></tr><tr><th>5</th><td>up</td><td>3</td></tr></tbody></table></div>"
      ],
      "text/latex": [
       "\\begin{tabular}{r|cc}\n",
       "\t& instruction & n\\_step\\\\\n",
       "\t\\hline\n",
       "\t& String7 & Int64\\\\\n",
       "\t\\hline\n",
       "\t1 & forward & 9 \\\\\n",
       "\t2 & down & 3 \\\\\n",
       "\t3 & down & 8 \\\\\n",
       "\t4 & forward & 2 \\\\\n",
       "\t5 & up & 3 \\\\\n",
       "\\end{tabular}\n"
      ],
      "text/plain": [
       "\u001b[1m5×2 DataFrame\u001b[0m\n",
       "\u001b[1m Row \u001b[0m│\u001b[1m instruction \u001b[0m\u001b[1m n_step \u001b[0m\n",
       "\u001b[1m     \u001b[0m│\u001b[90m String7     \u001b[0m\u001b[90m Int64  \u001b[0m\n",
       "─────┼─────────────────────\n",
       "   1 │ forward           9\n",
       "   2 │ down              3\n",
       "   3 │ down              8\n",
       "   4 │ forward           2\n",
       "   5 │ up                3"
      ]
     },
     "metadata": {},
     "output_type": "display_data"
    }
   ],
   "source": [
    "first(input, 5)"
   ]
  },
  {
   "cell_type": "markdown",
   "metadata": {},
   "source": [
    "## Part 1"
   ]
  },
  {
   "cell_type": "markdown",
   "metadata": {},
   "source": [
    "### Function"
   ]
  },
  {
   "cell_type": "code",
   "execution_count": null,
   "metadata": {},
   "outputs": [
    {
     "data": {
      "text/plain": [
       "drive! (generic function with 1 method)"
      ]
     },
     "metadata": {},
     "output_type": "display_data"
    }
   ],
   "source": [
    "function drive!(instructions)\n",
    "    #is instruction for depth or horizontal axis\n",
    "    transform!(\n",
    "        instructions,\n",
    "        :instruction => ByRow(x -> x in [\"up\", \"down\"] ? \"depth\" : \"horizontal\") => :instruction_type\n",
    "    )\n",
    "\n",
    "    #positive or negative step\n",
    "    transform!(\n",
    "        instructions,        \n",
    "        [:instruction, :n_step]=> ByRow((x, y) -> x in [\"forward\", \"down\"] ? y : -y) => :step\n",
    "    )\n",
    "\n",
    "    #compute position at each step\n",
    "    transform!(\n",
    "        instructions,        \n",
    "        [:instruction_type, :step] => ByRow((x, y) -> x == \"depth\" ? y : 0) => :depth,\n",
    "        [:instruction_type, :step] => ByRow((x, y) -> x == \"horizontal\" ? y : 0) => :horizontal\n",
    "    )\n",
    "\n",
    "    transform!(\n",
    "        instructions,        \n",
    "        :depth => cumsum => :depth,\n",
    "        :horizontal => cumsum => :horizontal\n",
    "    )\n",
    "\n",
    "end"
   ]
  },
  {
   "cell_type": "markdown",
   "metadata": {},
   "source": [
    "### Result"
   ]
  },
  {
   "cell_type": "code",
   "execution_count": 106,
   "metadata": {},
   "outputs": [
    {
     "name": "stdout",
     "output_type": "stream",
     "text": [
      "Example : 150\n"
     ]
    },
    {
     "name": "stdout",
     "output_type": "stream",
     "text": [
      "Input : 1451208\n"
     ]
    }
   ],
   "source": [
    "#Example\n",
    "drive!(example)\n",
    "result = example[end, :depth] * example[end, :horizontal]\n",
    "println(\n",
    "    string(\"Example : \", result)\n",
    ")\n",
    "\n",
    "#Input\n",
    "drive!(input)\n",
    "result = input[end, :depth] * input[end, :horizontal]\n",
    "println(\n",
    "    string(\"Input : \", result)\n",
    ")\n"
   ]
  },
  {
   "cell_type": "markdown",
   "metadata": {},
   "source": [
    "## Part 2"
   ]
  },
  {
   "cell_type": "markdown",
   "metadata": {},
   "source": [
    "### Function"
   ]
  },
  {
   "cell_type": "code",
   "execution_count": 7,
   "metadata": {},
   "outputs": [
    {
     "data": {
      "text/plain": [
       "drive! (generic function with 1 method)"
      ]
     },
     "metadata": {},
     "output_type": "display_data"
    }
   ],
   "source": [
    "function drive!(instructions)\n",
    "    #is instruction for depth or horizontal axis\n",
    "    transform!(\n",
    "        instructions,\n",
    "        :instruction => ByRow(x -> x in [\"up\", \"down\"] ? \"aim\" : \"horizontal\") => :instruction_type\n",
    "    )\n",
    "\n",
    "    #positive or negative step\n",
    "    transform!(\n",
    "        instructions,        \n",
    "        [:instruction, :n_step]=> ByRow((x, y) -> x in [\"forward\", \"down\"] ? y : -y) => :step\n",
    "    )\n",
    "\n",
    "    #compute position at each step\n",
    "    ## Add 0 when not changing aim or horizontal\n",
    "    transform!(\n",
    "        instructions,        \n",
    "        [:instruction_type, :step] => ByRow((x, y) -> x == \"aim\" ? y : 0) => :aim,\n",
    "        [:instruction_type, :step] => ByRow((x, y) -> x == \"horizontal\" ? y : 0) => :horizontal\n",
    "    )\n",
    "\n",
    "    ## Cumulative aim at each step\n",
    "\n",
    "    transform!(\n",
    "        instructions,        \n",
    "        :aim => cumsum => :aim\n",
    "    )\n",
    "\n",
    "    ## Depth increase at each step\n",
    "    transform!(\n",
    "        instructions,\n",
    "        [:aim, :horizontal] => ByRow((x, y) ->  x * y) => :depth\n",
    "    )\n",
    "\n",
    "    ## Cumulative depth and horizontal at each step\n",
    "    transform!(\n",
    "        instructions,\n",
    "        :horizontal => cumsum => :horizontal,\n",
    "        :depth => cumsum => :depth\n",
    "    )\n",
    "\n",
    "end"
   ]
  },
  {
   "cell_type": "markdown",
   "metadata": {},
   "source": [
    "### Result"
   ]
  },
  {
   "cell_type": "code",
   "execution_count": 8,
   "metadata": {},
   "outputs": [
    {
     "name": "stdout",
     "output_type": "stream",
     "text": [
      "Example : 900\n",
      "Input : 1620141160\n"
     ]
    }
   ],
   "source": [
    "#Example\n",
    "drive!(example)\n",
    "result = example[end, :depth] * example[end, :horizontal]\n",
    "println(\n",
    "    string(\"Example : \", result)\n",
    ")\n",
    "\n",
    "#Input\n",
    "drive!(input)\n",
    "result = input[end, :depth] * input[end, :horizontal]\n",
    "println(\n",
    "    string(\"Input : \", result)\n",
    ")\n"
   ]
  },
  {
   "cell_type": "code",
   "execution_count": 9,
   "metadata": {},
   "outputs": [
    {
     "data": {
      "text/html": [
       "<div class=\"data-frame\"><p>6 rows × 7 columns</p><table class=\"data-frame\"><thead><tr><th></th><th>instruction</th><th>n_step</th><th>instruction_type</th><th>step</th><th>aim</th><th>horizontal</th><th>depth</th></tr><tr><th></th><th title=\"String\">String</th><th title=\"Int64\">Int64</th><th title=\"String\">String</th><th title=\"Int64\">Int64</th><th title=\"Int64\">Int64</th><th title=\"Int64\">Int64</th><th title=\"Int64\">Int64</th></tr></thead><tbody><tr><th>1</th><td>forward</td><td>5</td><td>horizontal</td><td>5</td><td>0</td><td>5</td><td>0</td></tr><tr><th>2</th><td>down</td><td>5</td><td>aim</td><td>5</td><td>5</td><td>5</td><td>0</td></tr><tr><th>3</th><td>forward</td><td>8</td><td>horizontal</td><td>8</td><td>5</td><td>13</td><td>40</td></tr><tr><th>4</th><td>up</td><td>3</td><td>aim</td><td>-3</td><td>2</td><td>13</td><td>40</td></tr><tr><th>5</th><td>down</td><td>8</td><td>aim</td><td>8</td><td>10</td><td>13</td><td>40</td></tr><tr><th>6</th><td>forward</td><td>2</td><td>horizontal</td><td>2</td><td>10</td><td>15</td><td>60</td></tr></tbody></table></div>"
      ],
      "text/latex": [
       "\\begin{tabular}{r|ccccccc}\n",
       "\t& instruction & n\\_step & instruction\\_type & step & aim & horizontal & depth\\\\\n",
       "\t\\hline\n",
       "\t& String & Int64 & String & Int64 & Int64 & Int64 & Int64\\\\\n",
       "\t\\hline\n",
       "\t1 & forward & 5 & horizontal & 5 & 0 & 5 & 0 \\\\\n",
       "\t2 & down & 5 & aim & 5 & 5 & 5 & 0 \\\\\n",
       "\t3 & forward & 8 & horizontal & 8 & 5 & 13 & 40 \\\\\n",
       "\t4 & up & 3 & aim & -3 & 2 & 13 & 40 \\\\\n",
       "\t5 & down & 8 & aim & 8 & 10 & 13 & 40 \\\\\n",
       "\t6 & forward & 2 & horizontal & 2 & 10 & 15 & 60 \\\\\n",
       "\\end{tabular}\n"
      ],
      "text/plain": [
       "\u001b[1m6×7 DataFrame\u001b[0m\n",
       "\u001b[1m Row \u001b[0m│\u001b[1m instruction \u001b[0m\u001b[1m n_step \u001b[0m\u001b[1m instruction_type \u001b[0m\u001b[1m step  \u001b[0m\u001b[1m aim   \u001b[0m\u001b[1m horizontal \u001b[0m\u001b[1m depth \u001b[0m\n",
       "\u001b[1m     \u001b[0m│\u001b[90m String      \u001b[0m\u001b[90m Int64  \u001b[0m\u001b[90m String           \u001b[0m\u001b[90m Int64 \u001b[0m\u001b[90m Int64 \u001b[0m\u001b[90m Int64      \u001b[0m\u001b[90m Int64 \u001b[0m\n",
       "─────┼────────────────────────────────────────────────────────────────────────\n",
       "   1 │ forward           5  horizontal            5      0           5      0\n",
       "   2 │ down              5  aim                   5      5           5      0\n",
       "   3 │ forward           8  horizontal            8      5          13     40\n",
       "   4 │ up                3  aim                  -3      2          13     40\n",
       "   5 │ down              8  aim                   8     10          13     40\n",
       "   6 │ forward           2  horizontal            2     10          15     60"
      ]
     },
     "metadata": {},
     "output_type": "display_data"
    }
   ],
   "source": [
    "example"
   ]
  }
 ],
 "metadata": {
  "kernelspec": {
   "display_name": "Julia 1.7.0",
   "language": "julia",
   "name": "julia-1.7"
  },
  "language_info": {
   "file_extension": ".jl",
   "mimetype": "application/julia",
   "name": "julia",
   "version": "1.7.0"
  },
  "orig_nbformat": 4
 },
 "nbformat": 4,
 "nbformat_minor": 2
}
