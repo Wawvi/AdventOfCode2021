{
 "cells": [
  {
   "cell_type": "markdown",
   "metadata": {},
   "source": [
    "# Julia - Day 5"
   ]
  },
  {
   "cell_type": "markdown",
   "metadata": {},
   "source": [
    "https://adventofcode.com/2021/day/5"
   ]
  },
  {
   "cell_type": "code",
   "execution_count": 101,
   "metadata": {},
   "outputs": [],
   "source": [
    "using DataFrames"
   ]
  },
  {
   "cell_type": "markdown",
   "metadata": {},
   "source": [
    "## Data"
   ]
  },
  {
   "cell_type": "code",
   "execution_count": 102,
   "metadata": {},
   "outputs": [
    {
     "data": {
      "text/plain": [
       "import_data (generic function with 1 method)"
      ]
     },
     "metadata": {},
     "output_type": "display_data"
    }
   ],
   "source": [
    "function import_data(input_path)\n",
    "    input = readlines(input_path)\n",
    "    input = split.(input, \" -> \")\n",
    "\n",
    "    coord1 = [row[1] for row in input]\n",
    "    coord1 = split.(coord1, \",\")\n",
    "    x1 = [parse(Int, row[1]) for row in coord1]\n",
    "    y1 = [parse(Int, row[2]) for row in coord1]\n",
    "\n",
    "    coord2 = [row[2] for row in input]\n",
    "    coord2 = split.(coord2, \",\")\n",
    "    x2 = [parse(Int, row[1]) for row in coord2]\n",
    "    y2 = [parse(Int, row[2]) for row in coord2]\n",
    "\n",
    "    return DataFrame(\n",
    "        x1 = x1,\n",
    "        y1 = y1,\n",
    "        x2 = x2,\n",
    "        y2 = y2        \n",
    "    )\n",
    "end"
   ]
  },
  {
   "cell_type": "code",
   "execution_count": 103,
   "metadata": {},
   "outputs": [
    {
     "data": {
      "text/html": [
       "<div class=\"data-frame\"><p>500 rows × 4 columns</p><table class=\"data-frame\"><thead><tr><th></th><th>x1</th><th>y1</th><th>x2</th><th>y2</th></tr><tr><th></th><th title=\"Int64\">Int64</th><th title=\"Int64\">Int64</th><th title=\"Int64\">Int64</th><th title=\"Int64\">Int64</th></tr></thead><tbody><tr><th>1</th><td>989</td><td>854</td><td>521</td><td>854</td></tr><tr><th>2</th><td>831</td><td>695</td><td>402</td><td>266</td></tr><tr><th>3</th><td>38</td><td>805</td><td>306</td><td>537</td></tr><tr><th>4</th><td>802</td><td>24</td><td>802</td><td>824</td></tr><tr><th>5</th><td>951</td><td>478</td><td>951</td><td>758</td></tr><tr><th>6</th><td>508</td><td>987</td><td>508</td><td>868</td></tr><tr><th>7</th><td>602</td><td>246</td><td>108</td><td>246</td></tr><tr><th>8</th><td>765</td><td>781</td><td>76</td><td>92</td></tr><tr><th>9</th><td>248</td><td>757</td><td>644</td><td>361</td></tr><tr><th>10</th><td>296</td><td>987</td><td>296</td><td>958</td></tr><tr><th>11</th><td>240</td><td>430</td><td>240</td><td>36</td></tr><tr><th>12</th><td>672</td><td>530</td><td>156</td><td>14</td></tr><tr><th>13</th><td>920</td><td>19</td><td>425</td><td>514</td></tr><tr><th>14</th><td>737</td><td>389</td><td>859</td><td>389</td></tr><tr><th>15</th><td>762</td><td>364</td><td>468</td><td>364</td></tr><tr><th>16</th><td>889</td><td>114</td><td>45</td><td>958</td></tr><tr><th>17</th><td>961</td><td>749</td><td>843</td><td>749</td></tr><tr><th>18</th><td>528</td><td>905</td><td>528</td><td>50</td></tr><tr><th>19</th><td>515</td><td>691</td><td>768</td><td>438</td></tr><tr><th>20</th><td>718</td><td>970</td><td>718</td><td>66</td></tr><tr><th>21</th><td>335</td><td>149</td><td>105</td><td>149</td></tr><tr><th>22</th><td>543</td><td>879</td><td>149</td><td>879</td></tr><tr><th>23</th><td>739</td><td>521</td><td>340</td><td>521</td></tr><tr><th>24</th><td>322</td><td>493</td><td>676</td><td>139</td></tr><tr><th>&vellip;</th><td>&vellip;</td><td>&vellip;</td><td>&vellip;</td><td>&vellip;</td></tr></tbody></table></div>"
      ],
      "text/latex": [
       "\\begin{tabular}{r|cccc}\n",
       "\t& x1 & y1 & x2 & y2\\\\\n",
       "\t\\hline\n",
       "\t& Int64 & Int64 & Int64 & Int64\\\\\n",
       "\t\\hline\n",
       "\t1 & 989 & 854 & 521 & 854 \\\\\n",
       "\t2 & 831 & 695 & 402 & 266 \\\\\n",
       "\t3 & 38 & 805 & 306 & 537 \\\\\n",
       "\t4 & 802 & 24 & 802 & 824 \\\\\n",
       "\t5 & 951 & 478 & 951 & 758 \\\\\n",
       "\t6 & 508 & 987 & 508 & 868 \\\\\n",
       "\t7 & 602 & 246 & 108 & 246 \\\\\n",
       "\t8 & 765 & 781 & 76 & 92 \\\\\n",
       "\t9 & 248 & 757 & 644 & 361 \\\\\n",
       "\t10 & 296 & 987 & 296 & 958 \\\\\n",
       "\t11 & 240 & 430 & 240 & 36 \\\\\n",
       "\t12 & 672 & 530 & 156 & 14 \\\\\n",
       "\t13 & 920 & 19 & 425 & 514 \\\\\n",
       "\t14 & 737 & 389 & 859 & 389 \\\\\n",
       "\t15 & 762 & 364 & 468 & 364 \\\\\n",
       "\t16 & 889 & 114 & 45 & 958 \\\\\n",
       "\t17 & 961 & 749 & 843 & 749 \\\\\n",
       "\t18 & 528 & 905 & 528 & 50 \\\\\n",
       "\t19 & 515 & 691 & 768 & 438 \\\\\n",
       "\t20 & 718 & 970 & 718 & 66 \\\\\n",
       "\t21 & 335 & 149 & 105 & 149 \\\\\n",
       "\t22 & 543 & 879 & 149 & 879 \\\\\n",
       "\t23 & 739 & 521 & 340 & 521 \\\\\n",
       "\t24 & 322 & 493 & 676 & 139 \\\\\n",
       "\t$\\dots$ & $\\dots$ & $\\dots$ & $\\dots$ & $\\dots$ \\\\\n",
       "\\end{tabular}\n"
      ],
      "text/plain": [
       "\u001b[1m500×4 DataFrame\u001b[0m\n",
       "\u001b[1m Row \u001b[0m│\u001b[1m x1    \u001b[0m\u001b[1m y1    \u001b[0m\u001b[1m x2    \u001b[0m\u001b[1m y2    \u001b[0m\n",
       "\u001b[1m     \u001b[0m│\u001b[90m Int64 \u001b[0m\u001b[90m Int64 \u001b[0m\u001b[90m Int64 \u001b[0m\u001b[90m Int64 \u001b[0m\n",
       "─────┼────────────────────────────\n",
       "   1 │   989    854    521    854\n",
       "   2 │   831    695    402    266\n",
       "   3 │    38    805    306    537\n",
       "   4 │   802     24    802    824\n",
       "   5 │   951    478    951    758\n",
       "   6 │   508    987    508    868\n",
       "   7 │   602    246    108    246\n",
       "   8 │   765    781     76     92\n",
       "  ⋮  │   ⋮      ⋮      ⋮      ⋮\n",
       " 494 │   130    485    130    892\n",
       " 495 │   308    886    783    886\n",
       " 496 │   949    681    350    681\n",
       " 497 │   256    561    746    561\n",
       " 498 │   242    119    608    119\n",
       " 499 │   916    883    410    377\n",
       " 500 │   562    433    241    754\n",
       "\u001b[36m                  485 rows omitted\u001b[0m"
      ]
     },
     "metadata": {},
     "output_type": "display_data"
    }
   ],
   "source": [
    "example = import_data(\"Input/5_example.txt\")\n",
    "input = import_data(\"Input/5_1.txt\")\n"
   ]
  },
  {
   "cell_type": "code",
   "execution_count": 152,
   "metadata": {},
   "outputs": [
    {
     "data": {
      "text/html": [
       "<div class=\"data-frame\"><p>10 rows × 4 columns</p><table class=\"data-frame\"><thead><tr><th></th><th>x1</th><th>y1</th><th>x2</th><th>y2</th></tr><tr><th></th><th title=\"Int64\">Int64</th><th title=\"Int64\">Int64</th><th title=\"Int64\">Int64</th><th title=\"Int64\">Int64</th></tr></thead><tbody><tr><th>1</th><td>0</td><td>9</td><td>5</td><td>9</td></tr><tr><th>2</th><td>8</td><td>0</td><td>0</td><td>8</td></tr><tr><th>3</th><td>9</td><td>4</td><td>3</td><td>4</td></tr><tr><th>4</th><td>2</td><td>2</td><td>2</td><td>1</td></tr><tr><th>5</th><td>7</td><td>0</td><td>7</td><td>4</td></tr><tr><th>6</th><td>6</td><td>4</td><td>2</td><td>0</td></tr><tr><th>7</th><td>0</td><td>9</td><td>2</td><td>9</td></tr><tr><th>8</th><td>3</td><td>4</td><td>1</td><td>4</td></tr><tr><th>9</th><td>0</td><td>0</td><td>8</td><td>8</td></tr><tr><th>10</th><td>5</td><td>5</td><td>8</td><td>2</td></tr></tbody></table></div>"
      ],
      "text/latex": [
       "\\begin{tabular}{r|cccc}\n",
       "\t& x1 & y1 & x2 & y2\\\\\n",
       "\t\\hline\n",
       "\t& Int64 & Int64 & Int64 & Int64\\\\\n",
       "\t\\hline\n",
       "\t1 & 0 & 9 & 5 & 9 \\\\\n",
       "\t2 & 8 & 0 & 0 & 8 \\\\\n",
       "\t3 & 9 & 4 & 3 & 4 \\\\\n",
       "\t4 & 2 & 2 & 2 & 1 \\\\\n",
       "\t5 & 7 & 0 & 7 & 4 \\\\\n",
       "\t6 & 6 & 4 & 2 & 0 \\\\\n",
       "\t7 & 0 & 9 & 2 & 9 \\\\\n",
       "\t8 & 3 & 4 & 1 & 4 \\\\\n",
       "\t9 & 0 & 0 & 8 & 8 \\\\\n",
       "\t10 & 5 & 5 & 8 & 2 \\\\\n",
       "\\end{tabular}\n"
      ],
      "text/plain": [
       "\u001b[1m10×4 DataFrame\u001b[0m\n",
       "\u001b[1m Row \u001b[0m│\u001b[1m x1    \u001b[0m\u001b[1m y1    \u001b[0m\u001b[1m x2    \u001b[0m\u001b[1m y2    \u001b[0m\n",
       "\u001b[1m     \u001b[0m│\u001b[90m Int64 \u001b[0m\u001b[90m Int64 \u001b[0m\u001b[90m Int64 \u001b[0m\u001b[90m Int64 \u001b[0m\n",
       "─────┼────────────────────────────\n",
       "   1 │     0      9      5      9\n",
       "   2 │     8      0      0      8\n",
       "   3 │     9      4      3      4\n",
       "   4 │     2      2      2      1\n",
       "   5 │     7      0      7      4\n",
       "   6 │     6      4      2      0\n",
       "   7 │     0      9      2      9\n",
       "   8 │     3      4      1      4\n",
       "   9 │     0      0      8      8\n",
       "  10 │     5      5      8      2"
      ]
     },
     "metadata": {},
     "output_type": "display_data"
    }
   ],
   "source": [
    "example"
   ]
  },
  {
   "cell_type": "code",
   "execution_count": 153,
   "metadata": {},
   "outputs": [
    {
     "data": {
      "text/plain": [
       "10×10 Matrix{Int64}:\n",
       " 0  0  0  0  0  0  0  0  0  0\n",
       " 0  0  0  0  0  0  0  0  0  0\n",
       " 0  0  0  0  0  0  0  0  0  0\n",
       " 0  0  0  0  0  0  0  0  0  0\n",
       " 0  0  0  0  0  0  0  0  0  0\n",
       " 0  0  0  0  0  0  0  0  0  0\n",
       " 0  0  0  0  0  0  0  0  0  0\n",
       " 0  0  0  0  0  0  0  0  0  0\n",
       " 0  0  0  0  0  0  0  0  0  0\n",
       " 0  0  0  0  0  0  0  0  0  0"
      ]
     },
     "metadata": {},
     "output_type": "display_data"
    }
   ],
   "source": [
    "ocean_floor = create_ocean_floor(example)\n",
    "ocean_floor"
   ]
  },
  {
   "cell_type": "code",
   "execution_count": 154,
   "metadata": {},
   "outputs": [
    {
     "data": {
      "text/plain": [
       "6×2 Matrix{Int64}:\n",
       " 0  9\n",
       " 1  9\n",
       " 2  9\n",
       " 3  9\n",
       " 4  9\n",
       " 5  9"
      ]
     },
     "metadata": {},
     "output_type": "display_data"
    }
   ],
   "source": [
    "coords = coord_between_points(0, 9, 5, 9)"
   ]
  },
  {
   "cell_type": "code",
   "execution_count": 155,
   "metadata": {},
   "outputs": [],
   "source": [
    "update_ocean_floor!(ocean_floor, coords)"
   ]
  },
  {
   "cell_type": "code",
   "execution_count": 156,
   "metadata": {},
   "outputs": [
    {
     "data": {
      "text/plain": [
       "10×10 Matrix{Int64}:\n",
       " 0  0  0  0  0  0  0  0  0  0\n",
       " 0  0  0  0  0  0  0  0  0  0\n",
       " 0  0  0  0  0  0  0  0  0  0\n",
       " 0  0  0  0  0  0  0  0  0  0\n",
       " 0  0  0  0  0  0  0  0  0  0\n",
       " 0  0  0  0  0  0  0  0  0  0\n",
       " 0  0  0  0  0  0  0  0  0  0\n",
       " 0  0  0  0  0  0  0  0  0  0\n",
       " 0  0  0  0  0  0  0  0  0  0\n",
       " 1  1  1  1  1  1  0  0  0  0"
      ]
     },
     "metadata": {},
     "output_type": "display_data"
    }
   ],
   "source": [
    "ocean_floor"
   ]
  },
  {
   "cell_type": "markdown",
   "metadata": {},
   "source": [
    "## Part 1"
   ]
  },
  {
   "cell_type": "markdown",
   "metadata": {},
   "source": [
    "### Function"
   ]
  },
  {
   "cell_type": "code",
   "execution_count": 163,
   "metadata": {},
   "outputs": [
    {
     "data": {
      "text/plain": [
       "n_dangerous_area (generic function with 2 methods)"
      ]
     },
     "metadata": {},
     "output_type": "display_data"
    }
   ],
   "source": [
    "function vertical_or_horizontal(data)\n",
    "    return (data[:, :x1] .== data[:, :x2]) .| (data[:, :y1] .== data[:, :y2])\n",
    "end\n",
    "\n",
    "function create_ocean_floor(data)\n",
    "    x_max = maximum(vcat(data[:, :x1], data[:, :x2], 1)) + 1 #because coord start at 0 and matrix start at 1\n",
    "    y_max = maximum(vcat(data[:, :y1], data[:, :y2], 1)) + 1\n",
    "    return zeros(Int, x_max, y_max)\n",
    "end\n",
    "\n",
    "function line_function_creator(x1, y1, x2, y2)\n",
    "    #when not a vertical line where b = inf\n",
    "    if x1 != x2\n",
    "        b = (y2 - y1) / (x2 - x1)\n",
    "        a = y1 - b * x1\n",
    "        return line_function(x)::Int64 = a + b*x\n",
    "    end\n",
    "\n",
    "end\n",
    "\n",
    "function coord_between_points(x1, y1, x2, y2)\n",
    "    \n",
    "    coords = zeros(Int, 0, 2)\n",
    "\n",
    "    if (x1 == x2) & (y1 == y2)\n",
    "        coords = vcat(coords, [])\n",
    "\n",
    "    elseif x1 == x2\n",
    "        for y in range(start = y1, stop = y2, step = y2 - y1 > 0 ? 1 : -1)\n",
    "            coords = vcat(coords, [x1 y])\n",
    "        end\n",
    "    \n",
    "    elseif y1 == y2\n",
    "        for x in range(start = x1, stop = x2, step = x2 - x1 > 0 ? 1 : -1)\n",
    "            coords = vcat(coords, [x y1])\n",
    "        end\n",
    "\n",
    "    else\n",
    "        line = line_function_creator(x1, y1, x2, y2)\n",
    "        for x in range(start = x1, stop = x2, step = x2 - x1 > 0 ? 1 : -1)\n",
    "            coords = vcat(coords, [x line(x)])\n",
    "        end\n",
    "\n",
    "    end\n",
    "\n",
    "    return coords\n",
    "end\n",
    "\n",
    "function update_ocean_floor!(ocean_floor, coords)\n",
    "    for coord_pair in eachrow(coords)\n",
    "        ocean_floor[coord_pair[2] + 1, coord_pair[1] + 1] += 1\n",
    "        #x is col and y is row\n",
    "    end\n",
    "end\n",
    "\n",
    "function ocean_floor_survey(data)\n",
    "\n",
    "    data = data[vertical_or_horizontal(data), :]\n",
    "    ocean_floor = create_ocean_floor(data)\n",
    "\n",
    "    for row in eachrow(data)\n",
    "\n",
    "        coords = coord_between_points(row[:x1], row[:y1], row[:x2], row[:y2])\n",
    "        update_ocean_floor!(ocean_floor, coords)\n",
    "\n",
    "    end\n",
    "\n",
    "    return ocean_floor\n",
    "\n",
    "end\n",
    "\n",
    "function n_dangerous_area(ocean_floor, threshold = 2)\n",
    "    return length(findall(ocean_floor .>= threshold))\n",
    "end"
   ]
  },
  {
   "cell_type": "markdown",
   "metadata": {},
   "source": [
    "### Result"
   ]
  },
  {
   "cell_type": "code",
   "execution_count": 166,
   "metadata": {},
   "outputs": [
    {
     "name": "stdout",
     "output_type": "stream",
     "text": [
      "Example : 5\n",
      "Input : 5169\n"
     ]
    }
   ],
   "source": [
    "#Example\n",
    "result = ocean_floor_survey(example)\n",
    "result = n_dangerous_area(result)\n",
    "\n",
    "println(\n",
    "    string(\"Example : \", result)\n",
    ")\n",
    "#Input\n",
    "result = ocean_floor_survey(input)\n",
    "result = n_dangerous_area(result)\n",
    "\n",
    "println(\n",
    "    string(\"Input : \", result)\n",
    ")"
   ]
  },
  {
   "cell_type": "markdown",
   "metadata": {},
   "source": [
    "## Part 2"
   ]
  },
  {
   "cell_type": "markdown",
   "metadata": {},
   "source": [
    "### Function"
   ]
  },
  {
   "cell_type": "code",
   "execution_count": 167,
   "metadata": {},
   "outputs": [
    {
     "data": {
      "text/plain": [
       "ocean_floor_survey (generic function with 1 method)"
      ]
     },
     "metadata": {},
     "output_type": "display_data"
    }
   ],
   "source": [
    "function ocean_floor_survey(data)\n",
    "\n",
    "    ocean_floor = create_ocean_floor(data)\n",
    "\n",
    "    for row in eachrow(data)\n",
    "\n",
    "        coords = coord_between_points(row[:x1], row[:y1], row[:x2], row[:y2])\n",
    "        update_ocean_floor!(ocean_floor, coords)\n",
    "\n",
    "    end\n",
    "\n",
    "    return ocean_floor\n",
    "\n",
    "end"
   ]
  },
  {
   "cell_type": "markdown",
   "metadata": {},
   "source": [
    "### Result"
   ]
  },
  {
   "cell_type": "code",
   "execution_count": 169,
   "metadata": {},
   "outputs": [
    {
     "name": "stdout",
     "output_type": "stream",
     "text": [
      "Example : 12\n",
      "Input : 22083\n"
     ]
    }
   ],
   "source": [
    "#Example\n",
    "result = ocean_floor_survey(example)\n",
    "result = n_dangerous_area(result)\n",
    "\n",
    "println(\n",
    "    string(\"Example : \", result)\n",
    ")\n",
    "#Input\n",
    "result = ocean_floor_survey(input)\n",
    "result = n_dangerous_area(result)\n",
    "\n",
    "println(\n",
    "    string(\"Input : \", result)\n",
    ")"
   ]
  }
 ],
 "metadata": {
  "kernelspec": {
   "display_name": "Julia 1.7.0",
   "language": "julia",
   "name": "julia-1.7"
  },
  "language_info": {
   "file_extension": ".jl",
   "mimetype": "application/julia",
   "name": "julia",
   "version": "1.7.0"
  },
  "orig_nbformat": 4
 },
 "nbformat": 4,
 "nbformat_minor": 2
}
