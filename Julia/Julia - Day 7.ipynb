{
 "cells": [
  {
   "cell_type": "markdown",
   "metadata": {},
   "source": [
    "# Julia - Day 7"
   ]
  },
  {
   "cell_type": "markdown",
   "metadata": {},
   "source": [
    "https://adventofcode.com/2021/day/7"
   ]
  },
  {
   "cell_type": "code",
   "execution_count": 1,
   "metadata": {},
   "outputs": [],
   "source": [
    "using Statistics"
   ]
  },
  {
   "cell_type": "markdown",
   "metadata": {},
   "source": [
    "## Data"
   ]
  },
  {
   "cell_type": "code",
   "execution_count": 2,
   "metadata": {},
   "outputs": [
    {
     "data": {
      "text/plain": [
       "1000-element Vector{Int64}:\n",
       " 1101\n",
       "    1\n",
       "   29\n",
       "   67\n",
       " 1102\n",
       "    0\n",
       "    1\n",
       "   65\n",
       " 1008\n",
       "   65\n",
       "    ⋮\n",
       "    3\n",
       "  831\n",
       "  987\n",
       "  629\n",
       " 1338\n",
       "  852\n",
       "  189\n",
       "  340\n",
       " 1213"
      ]
     },
     "metadata": {},
     "output_type": "display_data"
    }
   ],
   "source": [
    "example = [16,1,2,0,4,2,7,1,2,14]\n",
    "input = read(\"Input/7_1.txt\", String)\n",
    "input = split.(input, \",\")\n",
    "input = parse.(Int64, input)"
   ]
  },
  {
   "cell_type": "markdown",
   "metadata": {},
   "source": [
    "## Part 1"
   ]
  },
  {
   "cell_type": "markdown",
   "metadata": {},
   "source": [
    "### Function"
   ]
  },
  {
   "cell_type": "code",
   "execution_count": 3,
   "metadata": {},
   "outputs": [
    {
     "data": {
      "text/plain": [
       "cheapest_fuel (generic function with 1 method)"
      ]
     },
     "metadata": {},
     "output_type": "display_data"
    }
   ],
   "source": [
    "function cheapest_fuel(data)\n",
    "    return sum(abs.(data .- median(data))) #median minimizes the sum of distance of 1d vectors\n",
    "end"
   ]
  },
  {
   "cell_type": "markdown",
   "metadata": {},
   "source": [
    "### Result"
   ]
  },
  {
   "cell_type": "code",
   "execution_count": 4,
   "metadata": {},
   "outputs": [
    {
     "name": "stdout",
     "output_type": "stream",
     "text": [
      "Example : 37.0\n",
      "Input : 344297.0\n"
     ]
    }
   ],
   "source": [
    "#Example\n",
    "result = cheapest_fuel(example)\n",
    "\n",
    "println(\n",
    "    string(\"Example : \", result)\n",
    ")\n",
    "#Input\n",
    "result = cheapest_fuel(input)\n",
    "\n",
    "println(\n",
    "    string(\"Input : \", result)\n",
    ")"
   ]
  },
  {
   "cell_type": "markdown",
   "metadata": {},
   "source": [
    "## Part 2"
   ]
  },
  {
   "cell_type": "markdown",
   "metadata": {},
   "source": [
    "### Function"
   ]
  },
  {
   "cell_type": "code",
   "execution_count": 25,
   "metadata": {},
   "outputs": [
    {
     "data": {
      "text/plain": [
       "brute_force (generic function with 1 method)"
      ]
     },
     "metadata": {},
     "output_type": "display_data"
    }
   ],
   "source": [
    "function fuel(input, proposition)  \n",
    "    #suite arithmétique\n",
    "    return sum(abs.(input .- proposition) .* (abs.(input .- proposition) .+ 1) ./ 2)\n",
    "end\n",
    "\n",
    "function brute_force(input)\n",
    "    start = minimum(input)\n",
    "    finish = maximum(input)\n",
    "\n",
    "    best_position = start\n",
    "    min_fuel = fuel(input, best_position)\n",
    "\n",
    "    for proposition in (start+1):finish\n",
    "        act_fuel = fuel(input, proposition)\n",
    "\n",
    "        if act_fuel < min_fuel\n",
    "            min_fuel = act_fuel\n",
    "            best_position = proposition\n",
    "        end\n",
    "\n",
    "    end\n",
    "    return min_fuel\n",
    "\n",
    "end"
   ]
  },
  {
   "cell_type": "markdown",
   "metadata": {},
   "source": [
    "### Result"
   ]
  },
  {
   "cell_type": "code",
   "execution_count": 27,
   "metadata": {},
   "outputs": [
    {
     "name": "stdout",
     "output_type": "stream",
     "text": [
      "Example : 168.0\n",
      "Input : 9.7164301e7\n"
     ]
    }
   ],
   "source": [
    "#Example\n",
    "result = brute_force(example)\n",
    "\n",
    "println(\n",
    "    string(\"Example : \", result)\n",
    ")\n",
    "#Input\n",
    "result = brute_force(input)\n",
    "\n",
    "println(\n",
    "    string(\"Input : \", result)\n",
    ")"
   ]
  }
 ],
 "metadata": {
  "kernelspec": {
   "display_name": "Julia 1.7.0",
   "language": "julia",
   "name": "julia-1.7"
  },
  "language_info": {
   "file_extension": ".jl",
   "mimetype": "application/julia",
   "name": "julia",
   "version": "1.7.0"
  },
  "orig_nbformat": 4
 },
 "nbformat": 4,
 "nbformat_minor": 2
}
