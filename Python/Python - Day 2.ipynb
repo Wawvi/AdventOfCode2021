{
 "cells": [
  {
   "cell_type": "markdown",
   "metadata": {},
   "source": [
    "# Python - Day 2"
   ]
  },
  {
   "cell_type": "markdown",
   "metadata": {},
   "source": [
    "https://adventofcode.com/2021/day/2"
   ]
  },
  {
   "cell_type": "markdown",
   "metadata": {},
   "source": [
    "## Data"
   ]
  },
  {
   "cell_type": "code",
   "execution_count": 1,
   "metadata": {},
   "outputs": [],
   "source": [
    "import numpy as np\n",
    "import pandas as pd"
   ]
  },
  {
   "cell_type": "code",
   "execution_count": 13,
   "metadata": {},
   "outputs": [],
   "source": [
    "example = pd.DataFrame({\n",
    "    \"instruction\" : [\"forward\", \"down\", \"forward\", \"up\", \"down\", \"forward\"],\n",
    "    \"n_step\" : [5, 5, 8, 3, 8, 2]\n",
    "})\n",
    "\n",
    "## Import table and rename cols\n",
    "\n",
    "input = pd.read_table(\"Input/2_1.txt\", sep = \" \", header = None)\n",
    "input.columns = [\"instruction\", \"n_step\"]"
   ]
  },
  {
   "cell_type": "code",
   "execution_count": 6,
   "metadata": {},
   "outputs": [
    {
     "data": {
      "text/html": [
       "<div>\n",
       "<style scoped>\n",
       "    .dataframe tbody tr th:only-of-type {\n",
       "        vertical-align: middle;\n",
       "    }\n",
       "\n",
       "    .dataframe tbody tr th {\n",
       "        vertical-align: top;\n",
       "    }\n",
       "\n",
       "    .dataframe thead th {\n",
       "        text-align: right;\n",
       "    }\n",
       "</style>\n",
       "<table border=\"1\" class=\"dataframe\">\n",
       "  <thead>\n",
       "    <tr style=\"text-align: right;\">\n",
       "      <th></th>\n",
       "      <th>instruction</th>\n",
       "      <th>n_step</th>\n",
       "    </tr>\n",
       "  </thead>\n",
       "  <tbody>\n",
       "    <tr>\n",
       "      <th>0</th>\n",
       "      <td>forward</td>\n",
       "      <td>5</td>\n",
       "    </tr>\n",
       "    <tr>\n",
       "      <th>1</th>\n",
       "      <td>down</td>\n",
       "      <td>5</td>\n",
       "    </tr>\n",
       "    <tr>\n",
       "      <th>2</th>\n",
       "      <td>forward</td>\n",
       "      <td>8</td>\n",
       "    </tr>\n",
       "    <tr>\n",
       "      <th>3</th>\n",
       "      <td>up</td>\n",
       "      <td>3</td>\n",
       "    </tr>\n",
       "    <tr>\n",
       "      <th>4</th>\n",
       "      <td>down</td>\n",
       "      <td>8</td>\n",
       "    </tr>\n",
       "    <tr>\n",
       "      <th>5</th>\n",
       "      <td>forward</td>\n",
       "      <td>2</td>\n",
       "    </tr>\n",
       "  </tbody>\n",
       "</table>\n",
       "</div>"
      ],
      "text/plain": [
       "  instruction  n_step\n",
       "0     forward       5\n",
       "1        down       5\n",
       "2     forward       8\n",
       "3          up       3\n",
       "4        down       8\n",
       "5     forward       2"
      ]
     },
     "execution_count": 6,
     "metadata": {},
     "output_type": "execute_result"
    }
   ],
   "source": [
    "example"
   ]
  },
  {
   "cell_type": "code",
   "execution_count": 14,
   "metadata": {},
   "outputs": [
    {
     "data": {
      "text/html": [
       "<div>\n",
       "<style scoped>\n",
       "    .dataframe tbody tr th:only-of-type {\n",
       "        vertical-align: middle;\n",
       "    }\n",
       "\n",
       "    .dataframe tbody tr th {\n",
       "        vertical-align: top;\n",
       "    }\n",
       "\n",
       "    .dataframe thead th {\n",
       "        text-align: right;\n",
       "    }\n",
       "</style>\n",
       "<table border=\"1\" class=\"dataframe\">\n",
       "  <thead>\n",
       "    <tr style=\"text-align: right;\">\n",
       "      <th></th>\n",
       "      <th>instruction</th>\n",
       "      <th>n_step</th>\n",
       "    </tr>\n",
       "  </thead>\n",
       "  <tbody>\n",
       "    <tr>\n",
       "      <th>0</th>\n",
       "      <td>forward</td>\n",
       "      <td>9</td>\n",
       "    </tr>\n",
       "    <tr>\n",
       "      <th>1</th>\n",
       "      <td>down</td>\n",
       "      <td>3</td>\n",
       "    </tr>\n",
       "    <tr>\n",
       "      <th>2</th>\n",
       "      <td>down</td>\n",
       "      <td>8</td>\n",
       "    </tr>\n",
       "    <tr>\n",
       "      <th>3</th>\n",
       "      <td>forward</td>\n",
       "      <td>2</td>\n",
       "    </tr>\n",
       "    <tr>\n",
       "      <th>4</th>\n",
       "      <td>up</td>\n",
       "      <td>3</td>\n",
       "    </tr>\n",
       "  </tbody>\n",
       "</table>\n",
       "</div>"
      ],
      "text/plain": [
       "  instruction  n_step\n",
       "0     forward       9\n",
       "1        down       3\n",
       "2        down       8\n",
       "3     forward       2\n",
       "4          up       3"
      ]
     },
     "execution_count": 14,
     "metadata": {},
     "output_type": "execute_result"
    }
   ],
   "source": [
    "input.head(n = 5)"
   ]
  },
  {
   "cell_type": "markdown",
   "metadata": {},
   "source": [
    "## Part 1"
   ]
  },
  {
   "cell_type": "markdown",
   "metadata": {},
   "source": [
    "### Function"
   ]
  },
  {
   "cell_type": "code",
   "execution_count": 21,
   "metadata": {},
   "outputs": [],
   "source": [
    "def drive(instructions) :\n",
    "\n",
    "    #is instruction for depth or horizontal axis\n",
    "    instructions[\"instruction_type\"] = np.where(instructions[\"instruction\"].isin([\"up\", \"down\"]), \"depth\", \"horizontal\")\n",
    "\n",
    "    #positive or negative step\n",
    "    instructions[\"step\"] = np.where(instructions[\"instruction\"].isin([\"forward\", \"down\"]), instructions[\"n_step\"], -instructions[\"n_step\"])\n",
    "\n",
    "    #compute position at each step\n",
    "\n",
    "    instructions[\"depth\"] = np.where(instructions[\"instruction_type\"] == \"depth\", instructions[\"step\"], 0)\n",
    "    instructions[\"horizontal\"] = np.where(instructions[\"instruction_type\"] == \"horizontal\", instructions[\"step\"], 0)\n",
    "    \n",
    "    instructions[\"depth\"] = np.cumsum(instructions[\"depth\"])\n",
    "    instructions[\"horizontal\"] = np.cumsum(instructions[\"horizontal\"])\n",
    "\n",
    "    return instructions"
   ]
  },
  {
   "cell_type": "markdown",
   "metadata": {},
   "source": [
    "### Result"
   ]
  },
  {
   "cell_type": "code",
   "execution_count": 24,
   "metadata": {},
   "outputs": [
    {
     "name": "stdout",
     "output_type": "stream",
     "text": [
      "Example :  150\n",
      "Input :  1451208\n"
     ]
    }
   ],
   "source": [
    "#Example\n",
    "example = drive(example)\n",
    "result = example[\"depth\"].iloc[-1] * example[\"horizontal\"].iloc[-1]\n",
    "print(\"Example : \", result)\n",
    "\n",
    "#Input\n",
    "input = drive(input)\n",
    "result = input[\"depth\"].iloc[-1] * input[\"horizontal\"].iloc[-1]\n",
    "print(\"Input : \", result)"
   ]
  },
  {
   "cell_type": "markdown",
   "metadata": {},
   "source": [
    "## Part 2"
   ]
  },
  {
   "cell_type": "markdown",
   "metadata": {},
   "source": [
    "### Function"
   ]
  },
  {
   "cell_type": "code",
   "execution_count": 25,
   "metadata": {},
   "outputs": [],
   "source": [
    "def drive(instructions) :\n",
    "\n",
    "    #is instruction for aim or horizontal axis\n",
    "    instructions[\"instruction_type\"] = np.where(instructions[\"instruction\"].isin([\"up\", \"down\"]), \"aim\", \"horizontal\")\n",
    "\n",
    "    #positive or negative step\n",
    "    instructions[\"step\"] = np.where(instructions[\"instruction\"].isin([\"forward\", \"down\"]), instructions[\"n_step\"], -instructions[\"n_step\"])\n",
    "\n",
    "    #compute position at each step\n",
    "    \n",
    "    ## aim\n",
    "    instructions[\"aim\"] = np.where(instructions[\"instruction_type\"] == \"aim\", instructions[\"step\"], 0)\n",
    "    instructions[\"aim\"] = np.cumsum(instructions[\"aim\"])\n",
    "\n",
    "    ## horizontal / depth increase at each step\n",
    "    instructions[\"horizontal\"] = np.where(instructions[\"instruction_type\"] == \"horizontal\", instructions[\"step\"], 0)\n",
    "    instructions[\"depth\"] =  instructions[\"aim\"] * instructions[\"horizontal\"]\n",
    "    \n",
    "    ## cumulative horizontal / depth\n",
    "    instructions[\"horizontal\"] = np.cumsum(instructions[\"horizontal\"])\n",
    "    instructions[\"depth\"] = np.cumsum(instructions[\"depth\"])\n",
    "\n",
    "    return instructions"
   ]
  },
  {
   "cell_type": "markdown",
   "metadata": {},
   "source": [
    "### Result"
   ]
  },
  {
   "cell_type": "code",
   "execution_count": 26,
   "metadata": {},
   "outputs": [
    {
     "name": "stdout",
     "output_type": "stream",
     "text": [
      "Example :  900\n",
      "Input :  1620141160\n"
     ]
    }
   ],
   "source": [
    "#Example\n",
    "example = drive(example)\n",
    "result = example[\"depth\"].iloc[-1] * example[\"horizontal\"].iloc[-1]\n",
    "print(\"Example : \", result)\n",
    "\n",
    "#Input\n",
    "input = drive(input)\n",
    "result = input[\"depth\"].iloc[-1] * input[\"horizontal\"].iloc[-1]\n",
    "print(\"Input : \", result)"
   ]
  },
  {
   "cell_type": "code",
   "execution_count": 27,
   "metadata": {},
   "outputs": [
    {
     "data": {
      "text/html": [
       "<div>\n",
       "<style scoped>\n",
       "    .dataframe tbody tr th:only-of-type {\n",
       "        vertical-align: middle;\n",
       "    }\n",
       "\n",
       "    .dataframe tbody tr th {\n",
       "        vertical-align: top;\n",
       "    }\n",
       "\n",
       "    .dataframe thead th {\n",
       "        text-align: right;\n",
       "    }\n",
       "</style>\n",
       "<table border=\"1\" class=\"dataframe\">\n",
       "  <thead>\n",
       "    <tr style=\"text-align: right;\">\n",
       "      <th></th>\n",
       "      <th>instruction</th>\n",
       "      <th>n_step</th>\n",
       "      <th>instruction_type</th>\n",
       "      <th>step</th>\n",
       "      <th>depth</th>\n",
       "      <th>horizontal</th>\n",
       "      <th>aim</th>\n",
       "    </tr>\n",
       "  </thead>\n",
       "  <tbody>\n",
       "    <tr>\n",
       "      <th>0</th>\n",
       "      <td>forward</td>\n",
       "      <td>5</td>\n",
       "      <td>horizontal</td>\n",
       "      <td>5</td>\n",
       "      <td>0</td>\n",
       "      <td>5</td>\n",
       "      <td>0</td>\n",
       "    </tr>\n",
       "    <tr>\n",
       "      <th>1</th>\n",
       "      <td>down</td>\n",
       "      <td>5</td>\n",
       "      <td>aim</td>\n",
       "      <td>5</td>\n",
       "      <td>0</td>\n",
       "      <td>5</td>\n",
       "      <td>5</td>\n",
       "    </tr>\n",
       "    <tr>\n",
       "      <th>2</th>\n",
       "      <td>forward</td>\n",
       "      <td>8</td>\n",
       "      <td>horizontal</td>\n",
       "      <td>8</td>\n",
       "      <td>40</td>\n",
       "      <td>13</td>\n",
       "      <td>5</td>\n",
       "    </tr>\n",
       "    <tr>\n",
       "      <th>3</th>\n",
       "      <td>up</td>\n",
       "      <td>3</td>\n",
       "      <td>aim</td>\n",
       "      <td>-3</td>\n",
       "      <td>40</td>\n",
       "      <td>13</td>\n",
       "      <td>2</td>\n",
       "    </tr>\n",
       "    <tr>\n",
       "      <th>4</th>\n",
       "      <td>down</td>\n",
       "      <td>8</td>\n",
       "      <td>aim</td>\n",
       "      <td>8</td>\n",
       "      <td>40</td>\n",
       "      <td>13</td>\n",
       "      <td>10</td>\n",
       "    </tr>\n",
       "    <tr>\n",
       "      <th>5</th>\n",
       "      <td>forward</td>\n",
       "      <td>2</td>\n",
       "      <td>horizontal</td>\n",
       "      <td>2</td>\n",
       "      <td>60</td>\n",
       "      <td>15</td>\n",
       "      <td>10</td>\n",
       "    </tr>\n",
       "  </tbody>\n",
       "</table>\n",
       "</div>"
      ],
      "text/plain": [
       "  instruction  n_step instruction_type  step  depth  horizontal  aim\n",
       "0     forward       5       horizontal     5      0           5    0\n",
       "1        down       5              aim     5      0           5    5\n",
       "2     forward       8       horizontal     8     40          13    5\n",
       "3          up       3              aim    -3     40          13    2\n",
       "4        down       8              aim     8     40          13   10\n",
       "5     forward       2       horizontal     2     60          15   10"
      ]
     },
     "execution_count": 27,
     "metadata": {},
     "output_type": "execute_result"
    }
   ],
   "source": [
    "example"
   ]
  }
 ],
 "metadata": {
  "interpreter": {
   "hash": "d7077cd4f0110cf56b68be09d8c98dad0cd4c1457c23ccb655792174161d32c0"
  },
  "kernelspec": {
   "display_name": "Python 3.7.3 64-bit (conda)",
   "language": "python",
   "name": "python3"
  },
  "language_info": {
   "codemirror_mode": {
    "name": "ipython",
    "version": 3
   },
   "file_extension": ".py",
   "mimetype": "text/x-python",
   "name": "python",
   "nbconvert_exporter": "python",
   "pygments_lexer": "ipython3",
   "version": "3.7.3"
  },
  "orig_nbformat": 4
 },
 "nbformat": 4,
 "nbformat_minor": 2
}
