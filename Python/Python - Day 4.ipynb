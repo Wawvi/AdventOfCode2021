{
 "cells": [
  {
   "cell_type": "markdown",
   "metadata": {},
   "source": [
    "# Python - Day 4"
   ]
  },
  {
   "cell_type": "markdown",
   "metadata": {},
   "source": [
    "https://adventofcode.com/2021/day/4"
   ]
  },
  {
   "cell_type": "code",
   "execution_count": null,
   "metadata": {},
   "outputs": [],
   "source": [
    "import numpy as np\n",
    "import re"
   ]
  },
  {
   "cell_type": "markdown",
   "metadata": {},
   "source": [
    "## Data"
   ]
  },
  {
   "cell_type": "code",
   "execution_count": 6,
   "metadata": {},
   "outputs": [],
   "source": [
    "def import_bingo_data(input_path):\n",
    "\n",
    "    with open(input_path) as f:\n",
    "        input = [line.rstrip() for line in f]\n",
    "\n",
    "    draws = input[0].rsplit(\",\")\n",
    "    draws = [int(num) for num in draws]\n",
    "\n",
    "    n_tables = int((len(input) - 1) / 6)\n",
    "    list = [np.zeros((5, 5, 2), dtype = int) for _ in range(0, n_tables)]\n",
    "\n",
    "    for row in range(1, len(input)):\n",
    "        table = (row - 1) // 6\n",
    "        if (row - 1) % 6 != 0 :\n",
    "            i = (row - 2) % 6\n",
    "            list[table][i, :, 0] = [int(num) for num in re.split(\"(?<=\\d)\\s+\", input[row])]\n",
    "            \n",
    "    return {\n",
    "        \"draws\" : draws,\n",
    "        \"bingo_tables\" : list\n",
    "    }"
   ]
  },
  {
   "cell_type": "code",
   "execution_count": 50,
   "metadata": {},
   "outputs": [],
   "source": [
    "example = import_bingo_data(\"Input/4_example.txt\")\n",
    "input = import_bingo_data(\"Input/4_1.txt\")"
   ]
  },
  {
   "cell_type": "markdown",
   "metadata": {},
   "source": [
    "## Part 1"
   ]
  },
  {
   "cell_type": "markdown",
   "metadata": {},
   "source": [
    "### Function"
   ]
  },
  {
   "cell_type": "code",
   "execution_count": 8,
   "metadata": {},
   "outputs": [],
   "source": [
    "def draw_position(matrice, draw):\n",
    "    return matrice == draw\n",
    "\n",
    "def update_with_draw(matrice, draw_pos, value = 1):\n",
    "    matrice[draw_pos, 1] = value\n",
    "\n",
    "def matrice_colsum(matrice):\n",
    "    return [sum(col) for col in matrice.T]\n",
    "\n",
    "def matrice_rowsum(matrice):\n",
    "    return [sum(row) for row in matrice]\n",
    "\n",
    "def any_bingo(row_sum_vect, col_sum_vect):\n",
    "    return any([num == 5 for num in row_sum_vect]) | any([num == 5 for num in col_sum_vect])\n",
    "\n",
    "def sum_not_drawn(matrice):\n",
    "    return sum(matrice[matrice[:, :, 1] == 0, 0])\n",
    "\n",
    "def bingo(data):\n",
    "    \n",
    "    for draw in data[\"draws\"]:\n",
    "        for i_mat in range(0, len(data[\"bingo_tables\"])):\n",
    "            draw_pos = draw_position(data[\"bingo_tables\"][i_mat][:, :, 0], draw)\n",
    "            update_with_draw(data[\"bingo_tables\"][i_mat], draw_pos, 1)\n",
    "            row_sum_vect = matrice_rowsum(data[\"bingo_tables\"][i_mat][:, :, 1])            \n",
    "            col_sum_vect = matrice_colsum(data[\"bingo_tables\"][i_mat][:, :, 1])\n",
    "\n",
    "            if any_bingo(row_sum_vect, col_sum_vect):\n",
    "                return sum_not_drawn(data[\"bingo_tables\"][i_mat]) * draw\n",
    "\n",
    "        "
   ]
  },
  {
   "cell_type": "markdown",
   "metadata": {},
   "source": [
    "### Result"
   ]
  },
  {
   "cell_type": "code",
   "execution_count": null,
   "metadata": {},
   "outputs": [
    {
     "name": "stdout",
     "output_type": "stream",
     "text": [
      "Example : 4512\n",
      "Input : 16674\n"
     ]
    }
   ],
   "source": [
    "#Example\n",
    "result = bingo(example)\n",
    "\n",
    "print(\n",
    "    \"Example : \", result\n",
    ")\n",
    "#Input\n",
    "result = bingo(input)\n",
    "\n",
    "print(\n",
    "    \"Input : \", result\n",
    ")"
   ]
  },
  {
   "cell_type": "markdown",
   "metadata": {},
   "source": [
    "## Part 2"
   ]
  },
  {
   "cell_type": "markdown",
   "metadata": {},
   "source": [
    "### Function"
   ]
  },
  {
   "cell_type": "code",
   "execution_count": 51,
   "metadata": {},
   "outputs": [],
   "source": [
    "def bingo(data):\n",
    "    bingo_order = np.empty((len(data[\"bingo_tables\"]), 2), dtype = int)\n",
    "    winner_order = 0   \n",
    "\n",
    "    for draw in data[\"draws\"]:\n",
    "        for i_mat in range(0, len(data[\"bingo_tables\"])):\n",
    "            draw_pos = draw_position(data[\"bingo_tables\"][i_mat][:, :, 0], draw)\n",
    "            update_with_draw(data[\"bingo_tables\"][i_mat], draw_pos, 1)\n",
    "            row_sum_vect = matrice_rowsum(data[\"bingo_tables\"][i_mat][:, :, 1])            \n",
    "            col_sum_vect = matrice_colsum(data[\"bingo_tables\"][i_mat][:, :, 1])\n",
    "\n",
    "            if any_bingo(row_sum_vect, col_sum_vect):\n",
    "                if (i_mat+1) not in bingo_order[:, 0]:\n",
    "                    bingo_order[winner_order, 0] = i_mat + 1\n",
    "                    bingo_order[winner_order, 1] = sum_not_drawn(data[\"bingo_tables\"][i_mat]) * draw\n",
    "                    winner_order += 1\n",
    "    \n",
    "    \n",
    "    return bingo_order[-1, :]\n"
   ]
  },
  {
   "cell_type": "markdown",
   "metadata": {},
   "source": [
    "### Result"
   ]
  },
  {
   "cell_type": "code",
   "execution_count": 52,
   "metadata": {},
   "outputs": [
    {
     "name": "stdout",
     "output_type": "stream",
     "text": [
      "Example :  1924\n"
     ]
    }
   ],
   "source": [
    "#Example\n",
    "result = bingo(example)\n",
    "\n",
    "print(\n",
    "    \"Example : \", result[1]\n",
    ")\n",
    "\n"
   ]
  },
  {
   "cell_type": "code",
   "execution_count": 53,
   "metadata": {},
   "outputs": [
    {
     "name": "stdout",
     "output_type": "stream",
     "text": [
      "Input :  7075\n"
     ]
    }
   ],
   "source": [
    "#Input\n",
    "result = bingo(input)\n",
    "\n",
    "print(\n",
    "    \"Input : \", result[1]\n",
    ")"
   ]
  }
 ],
 "metadata": {
  "interpreter": {
   "hash": "d7077cd4f0110cf56b68be09d8c98dad0cd4c1457c23ccb655792174161d32c0"
  },
  "kernelspec": {
   "display_name": "Python 3.7.3 64-bit (conda)",
   "language": "python",
   "name": "python3"
  },
  "language_info": {
   "codemirror_mode": {
    "name": "ipython",
    "version": 3
   },
   "file_extension": ".py",
   "mimetype": "text/x-python",
   "name": "python",
   "nbconvert_exporter": "python",
   "pygments_lexer": "ipython3",
   "version": "3.7.3"
  },
  "orig_nbformat": 4
 },
 "nbformat": 4,
 "nbformat_minor": 2
}
