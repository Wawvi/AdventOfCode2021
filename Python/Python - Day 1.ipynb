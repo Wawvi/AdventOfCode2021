{
 "cells": [
  {
   "cell_type": "markdown",
   "metadata": {},
   "source": [
    "# Python - Day 1"
   ]
  },
  {
   "cell_type": "markdown",
   "metadata": {},
   "source": [
    "https://adventofcode.com/2021/day/1"
   ]
  },
  {
   "cell_type": "markdown",
   "metadata": {},
   "source": [
    "## Data"
   ]
  },
  {
   "cell_type": "code",
   "execution_count": 2,
   "metadata": {},
   "outputs": [],
   "source": [
    "import numpy as np"
   ]
  },
  {
   "cell_type": "code",
   "execution_count": 3,
   "metadata": {},
   "outputs": [],
   "source": [
    "example = np.array([199, 200, 208, 210, 200, 207, 240, 269, 260, 263])"
   ]
  },
  {
   "cell_type": "code",
   "execution_count": null,
   "metadata": {},
   "outputs": [],
   "source": [
    "example"
   ]
  },
  {
   "cell_type": "code",
   "execution_count": 4,
   "metadata": {},
   "outputs": [],
   "source": [
    "with open(\"Input/1_1.txt\") as f:\n",
    "    input = np.array([int(x) for x in f])\n",
    "\n"
   ]
  },
  {
   "cell_type": "code",
   "execution_count": 57,
   "metadata": {},
   "outputs": [
    {
     "data": {
      "text/plain": [
       "array([ 140,  154,  165, ..., 3591, 3595, 3596])"
      ]
     },
     "execution_count": 57,
     "metadata": {},
     "output_type": "execute_result"
    }
   ],
   "source": [
    "input"
   ]
  },
  {
   "cell_type": "markdown",
   "metadata": {},
   "source": [
    "## Part 1"
   ]
  },
  {
   "cell_type": "markdown",
   "metadata": {},
   "source": [
    "### Function"
   ]
  },
  {
   "cell_type": "code",
   "execution_count": 18,
   "metadata": {},
   "outputs": [],
   "source": [
    "\n",
    "def is_increasing(input):\n",
    "    result = np.array([np.NaN for i in range(0, len(input))])\n",
    "\n",
    "    for i in range(1, len(input)):\n",
    "        result[i] = input[i] > input[i-1]\n",
    "    \n",
    "    return result\n"
   ]
  },
  {
   "cell_type": "markdown",
   "metadata": {},
   "source": [
    "### Result"
   ]
  },
  {
   "cell_type": "code",
   "execution_count": 74,
   "metadata": {},
   "outputs": [
    {
     "name": "stdout",
     "output_type": "stream",
     "text": [
      "Example :  7.0\n",
      "Input :  1298.0\n"
     ]
    }
   ],
   "source": [
    "#Example\n",
    "result = is_increasing(example)\n",
    "result = result[np.invert(np.isnan(result))]\n",
    "result = sum(result)\n",
    "print(\"Example : \", result)\n",
    "\n",
    "#Input\n",
    "result = is_increasing(input)\n",
    "result = result[np.invert(np.isnan(result))]\n",
    "result = sum(result)\n",
    "print(\"Input : \", result)"
   ]
  },
  {
   "cell_type": "markdown",
   "metadata": {},
   "source": [
    "## Part 2"
   ]
  },
  {
   "cell_type": "markdown",
   "metadata": {},
   "source": [
    "### Function"
   ]
  },
  {
   "cell_type": "code",
   "execution_count": 15,
   "metadata": {},
   "outputs": [],
   "source": [
    "def sliding_window_sum(input, window = 3):\n",
    "    max_len = len(input) - (window - 1)\n",
    "    result = np.array([0 for i in range(0, max_len)])\n",
    "\n",
    "    for i in range(0, max_len) :\n",
    "        result[i] = sum(input[i:(i + window)])\n",
    "    \n",
    "\n",
    "    return result\n",
    "\n"
   ]
  },
  {
   "cell_type": "markdown",
   "metadata": {},
   "source": [
    "### Result"
   ]
  },
  {
   "cell_type": "code",
   "execution_count": 21,
   "metadata": {},
   "outputs": [
    {
     "name": "stdout",
     "output_type": "stream",
     "text": [
      "Example :  5.0\n",
      "Input :  1248.0\n"
     ]
    }
   ],
   "source": [
    "# example \n",
    "result = sliding_window_sum(example)\n",
    "result = is_increasing(result)\n",
    "result = result[np.invert(np.isnan(result))]\n",
    "result = sum(result)\n",
    "print(\"Example : \", result)\n",
    "\n",
    "# input \n",
    "result = sliding_window_sum(input)\n",
    "result = is_increasing(result)\n",
    "result = result[np.invert(np.isnan(result))]\n",
    "result = sum(result)\n",
    "print(\"Input : \", result)"
   ]
  }
 ],
 "metadata": {
  "interpreter": {
   "hash": "d7077cd4f0110cf56b68be09d8c98dad0cd4c1457c23ccb655792174161d32c0"
  },
  "kernelspec": {
   "display_name": "Python 3.7.3 64-bit (conda)",
   "language": "python",
   "name": "python3"
  },
  "language_info": {
   "codemirror_mode": {
    "name": "ipython",
    "version": 3
   },
   "file_extension": ".py",
   "mimetype": "text/x-python",
   "name": "python",
   "nbconvert_exporter": "python",
   "pygments_lexer": "ipython3",
   "version": "3.7.3"
  },
  "orig_nbformat": 4
 },
 "nbformat": 4,
 "nbformat_minor": 2
}
