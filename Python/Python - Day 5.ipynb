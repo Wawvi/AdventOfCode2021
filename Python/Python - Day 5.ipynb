{
 "cells": [
  {
   "cell_type": "markdown",
   "metadata": {},
   "source": [
    "# Python - Day 5"
   ]
  },
  {
   "cell_type": "markdown",
   "metadata": {},
   "source": [
    "https://adventofcode.com/2021/day/5"
   ]
  },
  {
   "cell_type": "markdown",
   "metadata": {},
   "source": [
    "## Data"
   ]
  },
  {
   "cell_type": "code",
   "execution_count": 1,
   "metadata": {},
   "outputs": [],
   "source": [
    "import numpy as np\n",
    "import pandas as pd"
   ]
  },
  {
   "cell_type": "code",
   "execution_count": 2,
   "metadata": {},
   "outputs": [],
   "source": [
    "input_path = \"Input/5_example.txt\""
   ]
  },
  {
   "cell_type": "code",
   "execution_count": 25,
   "metadata": {},
   "outputs": [],
   "source": [
    "def import_data(input_path):\n",
    "    with open(input_path) as f:\n",
    "        input = [line.rstrip() for line in f]\n",
    "    input = [line.rsplit(\" -> \") for line in input]\n",
    "\n",
    "    coord1 = [row[0].rsplit(\",\") for row in input]\n",
    "    x1 = [int(row[0]) for row in coord1]    \n",
    "    y1 = [int(row[1]) for row in coord1]\n",
    "\n",
    "    coord2 = [row[1].rsplit(\",\") for row in input]\n",
    "    x2 = [int(row[0]) for row in coord2]    \n",
    "    y2 = [int(row[1]) for row in coord2]\n",
    "\n",
    "    return np.column_stack([x1, y1, x2, y2])"
   ]
  },
  {
   "cell_type": "code",
   "execution_count": 147,
   "metadata": {},
   "outputs": [],
   "source": [
    "example = import_data(\"Input/5_example.txt\")\n",
    "input = import_data(\"Input/5_1.txt\")"
   ]
  },
  {
   "cell_type": "markdown",
   "metadata": {},
   "source": [
    "## Part 1"
   ]
  },
  {
   "cell_type": "markdown",
   "metadata": {},
   "source": [
    "### Function"
   ]
  },
  {
   "cell_type": "code",
   "execution_count": 158,
   "metadata": {},
   "outputs": [],
   "source": [
    "def vertical_or_horizontal(data):\n",
    "    return (data[:, 0] == data[:, 2]) | (data[:, 1] == data[:, 3])\n",
    "\n",
    "def create_ocean_floor(data):\n",
    "    x_max = np.concatenate([data[:, 0], data[:, 2]]).max() + 1\n",
    "    y_max = np.concatenate([data[:, 1], data[:, 3]]).max() + 1\n",
    "    return np.zeros((y_max, x_max), dtype=int)\n",
    "\n",
    "def line_function_creator(x1, y1, x2, y2):\n",
    "    #when not a vertical line wher b = inf\n",
    "    if x1 != x2:\n",
    "        b = (y2 - y1) / (x2 - x1)\n",
    "        a = y1 - b * x1\n",
    "        def line_function(x) -> int:\n",
    "            return int(a + b*x)\n",
    "    return line_function\n",
    "\n",
    "def coord_between_points(x1, y1, x2, y2):\n",
    "\n",
    "    coords = []\n",
    "\n",
    "    if x1 == x2 & y1 == y2:\n",
    "        coords.append([x1, y1])\n",
    "    elif x1 == x2:\n",
    "        for y in range(y1, y2 + (1 if y2 - y1 > 0 else -1), 1 if y2 - y1 > 0 else -1):\n",
    "            coords.append([x1, y])\n",
    "    elif y1 == y2:\n",
    "        for x in range(x1, x2 + (1 if x2 - x1 > 0 else -1), 1 if x2 - x1 > 0 else -1):\n",
    "            coords.append([x, y1])\n",
    "    else:\n",
    "        line = line_function_creator(x1, y1, x2, y2)\n",
    "        for x in range(x1, x2 + (1 if x2 - x1 > 0 else -1), 1 if x2 - x1 > 0 else -1):\n",
    "            coords.append([x, line(x)])\n",
    "\n",
    "    return np.array(coords)\n",
    "\n",
    "def update_ocean_floor(ocean_floor, coords):\n",
    "    for coord_pair in coords:\n",
    "        ocean_floor[coord_pair[1], coord_pair[0]] += 1\n",
    "        #x is col and y is row\n",
    "\n",
    "def ocean_floor_survey(data):\n",
    "\n",
    "    data = data[vertical_or_horizontal(data), :]\n",
    "    ocean_floor = create_ocean_floor(data)\n",
    "\n",
    "    for row in data:\n",
    "        coords = coord_between_points(row[0], row[1], row[2], row[3])\n",
    "        update_ocean_floor(ocean_floor, coords)\n",
    "\n",
    "    return ocean_floor\n",
    "\n",
    "\n",
    "def n_dangerous_area(ocean_floor, threshold = 2):\n",
    "    return np.count_nonzero(ocean_floor >= threshold)\n",
    "     \n",
    "    "
   ]
  },
  {
   "cell_type": "markdown",
   "metadata": {},
   "source": [
    "### Result"
   ]
  },
  {
   "cell_type": "code",
   "execution_count": 159,
   "metadata": {},
   "outputs": [
    {
     "name": "stdout",
     "output_type": "stream",
     "text": [
      "Example :  5\n",
      "Input :  5169\n"
     ]
    }
   ],
   "source": [
    "#Example\n",
    "result = ocean_floor_survey(example)\n",
    "result = n_dangerous_area(result)\n",
    "\n",
    "print(\n",
    "    \"Example : \", result\n",
    ")\n",
    "\n",
    "#Input\n",
    "result = ocean_floor_survey(input)\n",
    "result = n_dangerous_area(result)\n",
    "\n",
    "print(\n",
    "    \"Input : \", result\n",
    ")"
   ]
  },
  {
   "cell_type": "markdown",
   "metadata": {},
   "source": [
    "## Part 2"
   ]
  },
  {
   "cell_type": "markdown",
   "metadata": {},
   "source": [
    "### Function"
   ]
  },
  {
   "cell_type": "code",
   "execution_count": 160,
   "metadata": {},
   "outputs": [],
   "source": [
    "def ocean_floor_survey(data):\n",
    "\n",
    "    ocean_floor = create_ocean_floor(data)\n",
    "\n",
    "    for row in data:\n",
    "        coords = coord_between_points(row[0], row[1], row[2], row[3])\n",
    "        update_ocean_floor(ocean_floor, coords)\n",
    "\n",
    "    return ocean_floor"
   ]
  },
  {
   "cell_type": "markdown",
   "metadata": {},
   "source": [
    "### Result"
   ]
  },
  {
   "cell_type": "code",
   "execution_count": 161,
   "metadata": {},
   "outputs": [
    {
     "name": "stdout",
     "output_type": "stream",
     "text": [
      "Example :  12\n",
      "Input :  22083\n"
     ]
    }
   ],
   "source": [
    "#Example\n",
    "result = ocean_floor_survey(example)\n",
    "result = n_dangerous_area(result)\n",
    "\n",
    "print(\n",
    "    \"Example : \", result\n",
    ")\n",
    "\n",
    "#Input\n",
    "result = ocean_floor_survey(input)\n",
    "result = n_dangerous_area(result)\n",
    "\n",
    "print(\n",
    "    \"Input : \", result\n",
    ")"
   ]
  }
 ],
 "metadata": {
  "interpreter": {
   "hash": "d7077cd4f0110cf56b68be09d8c98dad0cd4c1457c23ccb655792174161d32c0"
  },
  "kernelspec": {
   "display_name": "Python 3.7.3 64-bit (conda)",
   "language": "python",
   "name": "python3"
  },
  "language_info": {
   "codemirror_mode": {
    "name": "ipython",
    "version": 3
   },
   "file_extension": ".py",
   "mimetype": "text/x-python",
   "name": "python",
   "nbconvert_exporter": "python",
   "pygments_lexer": "ipython3",
   "version": "3.7.3"
  },
  "orig_nbformat": 4
 },
 "nbformat": 4,
 "nbformat_minor": 2
}
