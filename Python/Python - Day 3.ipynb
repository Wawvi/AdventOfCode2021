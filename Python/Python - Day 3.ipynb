{
 "cells": [
  {
   "cell_type": "markdown",
   "metadata": {},
   "source": [
    "# Python - Day 3"
   ]
  },
  {
   "cell_type": "markdown",
   "metadata": {},
   "source": [
    "https://adventofcode.com/2021/day/3"
   ]
  },
  {
   "cell_type": "markdown",
   "metadata": {},
   "source": [
    "## Data"
   ]
  },
  {
   "cell_type": "code",
   "execution_count": 3,
   "metadata": {},
   "outputs": [],
   "source": [
    "import numpy as np\n",
    "import pandas as pd\n",
    "import sys\n",
    "from io import StringIO"
   ]
  },
  {
   "cell_type": "code",
   "execution_count": 406,
   "metadata": {},
   "outputs": [],
   "source": [
    "\n",
    "example = pd.read_table(\n",
    "    StringIO(\n",
    "        \"\"\"00100\n",
    "    11110\n",
    "    10110\n",
    "    10111\n",
    "    10101\n",
    "    01111\n",
    "    00111\n",
    "    11100\n",
    "    10000\n",
    "    11001\n",
    "    00010\n",
    "    01010\"\"\"\n",
    "    ),\n",
    "    sep = \"\\t\",\n",
    "    header = None,\n",
    "    names = [\"binary_diagnostic\"],\n",
    "    dtype = {\"binary_diagnostic\" : str}\n",
    ")\n",
    "\n",
    "example[\"binary_diagnostic\"] = example[\"binary_diagnostic\"].str.replace(\"\\s\", \"\")\n",
    "\n",
    "\n",
    "input = pd.read_table(\"Input/3_1.txt\", sep = \"\\t\", header = None, names = [\"binary_diagnostic\"], dtype = {\"binary_diagnostic\" : str})"
   ]
  },
  {
   "cell_type": "code",
   "execution_count": 23,
   "metadata": {},
   "outputs": [
    {
     "data": {
      "text/html": [
       "<div>\n",
       "<style scoped>\n",
       "    .dataframe tbody tr th:only-of-type {\n",
       "        vertical-align: middle;\n",
       "    }\n",
       "\n",
       "    .dataframe tbody tr th {\n",
       "        vertical-align: top;\n",
       "    }\n",
       "\n",
       "    .dataframe thead th {\n",
       "        text-align: right;\n",
       "    }\n",
       "</style>\n",
       "<table border=\"1\" class=\"dataframe\">\n",
       "  <thead>\n",
       "    <tr style=\"text-align: right;\">\n",
       "      <th></th>\n",
       "      <th>binary_diagnostic</th>\n",
       "    </tr>\n",
       "  </thead>\n",
       "  <tbody>\n",
       "    <tr>\n",
       "      <th>0</th>\n",
       "      <td>011011001101</td>\n",
       "    </tr>\n",
       "    <tr>\n",
       "      <th>1</th>\n",
       "      <td>001101100111</td>\n",
       "    </tr>\n",
       "    <tr>\n",
       "      <th>2</th>\n",
       "      <td>001101011001</td>\n",
       "    </tr>\n",
       "    <tr>\n",
       "      <th>3</th>\n",
       "      <td>110111011101</td>\n",
       "    </tr>\n",
       "    <tr>\n",
       "      <th>4</th>\n",
       "      <td>110011101010</td>\n",
       "    </tr>\n",
       "  </tbody>\n",
       "</table>\n",
       "</div>"
      ],
      "text/plain": [
       "  binary_diagnostic\n",
       "0      011011001101\n",
       "1      001101100111\n",
       "2      001101011001\n",
       "3      110111011101\n",
       "4      110011101010"
      ]
     },
     "execution_count": 23,
     "metadata": {},
     "output_type": "execute_result"
    }
   ],
   "source": [
    "input.head(5)"
   ]
  },
  {
   "cell_type": "code",
   "execution_count": 407,
   "metadata": {},
   "outputs": [
    {
     "data": {
      "text/html": [
       "<div>\n",
       "<style scoped>\n",
       "    .dataframe tbody tr th:only-of-type {\n",
       "        vertical-align: middle;\n",
       "    }\n",
       "\n",
       "    .dataframe tbody tr th {\n",
       "        vertical-align: top;\n",
       "    }\n",
       "\n",
       "    .dataframe thead th {\n",
       "        text-align: right;\n",
       "    }\n",
       "</style>\n",
       "<table border=\"1\" class=\"dataframe\">\n",
       "  <thead>\n",
       "    <tr style=\"text-align: right;\">\n",
       "      <th></th>\n",
       "      <th>binary_diagnostic</th>\n",
       "    </tr>\n",
       "  </thead>\n",
       "  <tbody>\n",
       "    <tr>\n",
       "      <th>0</th>\n",
       "      <td>00100</td>\n",
       "    </tr>\n",
       "    <tr>\n",
       "      <th>1</th>\n",
       "      <td>11110</td>\n",
       "    </tr>\n",
       "    <tr>\n",
       "      <th>2</th>\n",
       "      <td>10110</td>\n",
       "    </tr>\n",
       "    <tr>\n",
       "      <th>3</th>\n",
       "      <td>10111</td>\n",
       "    </tr>\n",
       "    <tr>\n",
       "      <th>4</th>\n",
       "      <td>10101</td>\n",
       "    </tr>\n",
       "    <tr>\n",
       "      <th>5</th>\n",
       "      <td>01111</td>\n",
       "    </tr>\n",
       "    <tr>\n",
       "      <th>6</th>\n",
       "      <td>00111</td>\n",
       "    </tr>\n",
       "    <tr>\n",
       "      <th>7</th>\n",
       "      <td>11100</td>\n",
       "    </tr>\n",
       "    <tr>\n",
       "      <th>8</th>\n",
       "      <td>10000</td>\n",
       "    </tr>\n",
       "    <tr>\n",
       "      <th>9</th>\n",
       "      <td>11001</td>\n",
       "    </tr>\n",
       "    <tr>\n",
       "      <th>10</th>\n",
       "      <td>00010</td>\n",
       "    </tr>\n",
       "    <tr>\n",
       "      <th>11</th>\n",
       "      <td>01010</td>\n",
       "    </tr>\n",
       "  </tbody>\n",
       "</table>\n",
       "</div>"
      ],
      "text/plain": [
       "   binary_diagnostic\n",
       "0              00100\n",
       "1              11110\n",
       "2              10110\n",
       "3              10111\n",
       "4              10101\n",
       "5              01111\n",
       "6              00111\n",
       "7              11100\n",
       "8              10000\n",
       "9              11001\n",
       "10             00010\n",
       "11             01010"
      ]
     },
     "execution_count": 407,
     "metadata": {},
     "output_type": "execute_result"
    }
   ],
   "source": [
    "\n",
    "example"
   ]
  },
  {
   "cell_type": "markdown",
   "metadata": {},
   "source": [
    "## Part 1"
   ]
  },
  {
   "cell_type": "markdown",
   "metadata": {},
   "source": [
    "### Function"
   ]
  },
  {
   "cell_type": "code",
   "execution_count": 290,
   "metadata": {},
   "outputs": [],
   "source": [
    "def power_consumption_data(binary_diag):\n",
    "\n",
    "    # split strings into cols\n",
    "    string_len = len(binary_diag[\"binary_diagnostic\"][1])\n",
    "    split_strings = binary_diag[\"binary_diagnostic\"].str.split(\"\", expand = True)\n",
    "    split_strings = split_strings.drop(split_strings.columns[[0, -1]], axis = 1)\n",
    "    binary_diag = pd.concat([binary_diag, split_strings], axis = 1)\n",
    "\n",
    "    #reshape \n",
    "    binary_diag = binary_diag.melt(id_vars = [\"binary_diagnostic\"], var_name = \"variable\", value_name = \"value\")\n",
    "\n",
    "    # count 0 and 1 for each position \n",
    "    binary_diag = binary_diag.groupby([\"variable\", \"value\"]).agg(size = (\"value\", \"count\")).reset_index()\n",
    "\n",
    "    # gamma rate and epsilon rate\n",
    "    binary_diag = binary_diag.groupby([\"variable\"]) \\\n",
    "        .apply(lambda x: pd.Series({\n",
    "                \"gamma_rate\" : x[\"value\"][x[\"size\"] == np.max(x[\"size\"])].tolist()[0],\n",
    "                \"epsilon_rate\" : x[\"value\"][x[\"size\"] == np.min(x[\"size\"])].tolist()[0],\n",
    "            })\n",
    "        )\n",
    "    \n",
    "    # create return df and convert binary to decimal\n",
    "    binary_diag = pd.DataFrame({\n",
    "        \"rate\" : [\"gamma\", \"epsilon\"],\n",
    "        \"binary\" : [\"\".join(map(str, binary_diag[\"gamma_rate\"])), \"\".join(map(str, binary_diag[\"epsilon_rate\"]))]\n",
    "    })\n",
    "\n",
    "    binary_diag[\"decimal\"] = [int(binary, base = 2) for binary in binary_diag[\"binary\"]]\n",
    "    \n",
    "    return binary_diag\n",
    "\n",
    "    \n",
    "def power_consumption(power_consumption_data):\n",
    "    return power_consumption_data[\"decimal\"][power_consumption_data[\"rate\"] == \"gamma\"].iloc[0] * power_consumption_data[\"decimal\"][power_consumption_data[\"rate\"] == \"epsilon\"].iloc[0]\n",
    "\n",
    "  \n",
    "\n"
   ]
  },
  {
   "cell_type": "markdown",
   "metadata": {},
   "source": [
    "### Result"
   ]
  },
  {
   "cell_type": "code",
   "execution_count": 341,
   "metadata": {},
   "outputs": [
    {
     "name": "stdout",
     "output_type": "stream",
     "text": [
      "Example :  198\n",
      "Input :  3429254\n"
     ]
    }
   ],
   "source": [
    "#Example\n",
    "power_cons_data = power_consumption_data(example)\n",
    "result = power_consumption(power_cons_data)\n",
    "print(\n",
    "    \"Example : \", result\n",
    ")\n",
    "\n",
    "#Input\n",
    "power_cons_data = power_consumption_data(input)\n",
    "result = power_consumption(power_cons_data)\n",
    "print(\n",
    "   \"Input : \", result\n",
    ")\n"
   ]
  },
  {
   "cell_type": "markdown",
   "metadata": {},
   "source": [
    "## Part 2"
   ]
  },
  {
   "cell_type": "markdown",
   "metadata": {},
   "source": [
    "### Function"
   ]
  },
  {
   "cell_type": "code",
   "execution_count": 416,
   "metadata": {},
   "outputs": [],
   "source": [
    "def oxygen_generator_rating(binary_diag):\n",
    "\n",
    "    string_len = len(binary_diag[\"binary_diagnostic\"][1])\n",
    "    split_strings = binary_diag[\"binary_diagnostic\"].str.split(\"\", expand = True)\n",
    "    split_strings = split_strings.drop(split_strings.columns[[0, -1]], axis = 1)\n",
    "    binary_diag = pd.concat([binary_diag, split_strings], axis = 1)\n",
    "\n",
    "    #iter over each col until only one binary left\n",
    "    col_names = list(binary_diag.columns)\n",
    "\n",
    "    n_number = binary_diag.shape[0] #nrow, number of binary codes\n",
    "    i = 1 #start col, bite number 1 (not 0 which is the code)\n",
    "\n",
    "    while n_number > 1:\n",
    "\n",
    "        #count zeros and ones for bit i\n",
    "        bit_criteria = binary_diag[col_names[i]]\n",
    "        ones = bit_criteria[bit_criteria == \"1\"].count()\n",
    "        zeros = n_number - ones\n",
    "\n",
    "        #criteria\n",
    "        if zeros > ones:\n",
    "            bit_criteria = \"0\"\n",
    "        elif ones >= zeros:\n",
    "            bit_criteria = \"1\"\n",
    "\n",
    "        #filter with criteria\n",
    "        binary_diag = binary_diag[binary_diag[col_names[i]] == bit_criteria]\n",
    "\n",
    "        n_number = binary_diag.shape[0]\n",
    "        i += 1\n",
    "    \n",
    "    result = pd.DataFrame({\n",
    "        \"rate\" : [\"oxygen_generator\"]\n",
    "    })\n",
    "    result[\"binary\"] = pd.Series(binary_diag[\"binary_diagnostic\"].reset_index(drop=True))\n",
    "    result[\"decimal\"] = [int(binary, base = 2) for binary in result[\"binary\"]]\n",
    "\n",
    "    return result\n",
    "\n",
    "\n",
    "def CO2_scrubber_rating(binary_diag):\n",
    "\n",
    "    string_len = len(binary_diag[\"binary_diagnostic\"][1])\n",
    "    split_strings = binary_diag[\"binary_diagnostic\"].str.split(\"\", expand = True)\n",
    "    split_strings = split_strings.drop(split_strings.columns[[0, -1]], axis = 1)\n",
    "    binary_diag = pd.concat([binary_diag, split_strings], axis = 1)\n",
    "\n",
    "    #iter over each col until only one binary left\n",
    "    col_names = list(binary_diag.columns)\n",
    "\n",
    "    n_number = binary_diag.shape[0] #nrow, number of binary codes\n",
    "    i = 1 #start col, bite number 1 (not 0 which is the code)\n",
    "\n",
    "    while n_number > 1:\n",
    "\n",
    "        #count zeros and ones for bit i\n",
    "        bit_criteria = binary_diag[col_names[i]]\n",
    "        ones = bit_criteria[bit_criteria == \"1\"].count()\n",
    "        zeros = n_number - ones\n",
    "\n",
    "        #criteria\n",
    "        if ones >= zeros:\n",
    "            bit_criteria = \"0\"\n",
    "        elif zeros > ones:\n",
    "            bit_criteria = \"1\"\n",
    "\n",
    "        #filter with criteria\n",
    "        binary_diag = binary_diag[binary_diag[col_names[i]] == bit_criteria]\n",
    "\n",
    "        n_number = binary_diag.shape[0]\n",
    "        i += 1\n",
    "    \n",
    "    result = pd.DataFrame({\n",
    "        \"rate\" : [\"CO2_scrubber\"]\n",
    "    })\n",
    "    result[\"binary\"] = pd.Series(binary_diag[\"binary_diagnostic\"].reset_index(drop=True))\n",
    "    result[\"decimal\"] = [int(binary, base = 2) for binary in result[\"binary\"]]\n",
    "\n",
    "    return result\n",
    "\n",
    "\n",
    "def life_support_rating(oxygen_generator_data, CO2_scrubber_data):\n",
    "\n",
    "    result = pd.DataFrame({\n",
    "        \"rate\" : \"life_support\",\n",
    "        \"decimal\" : oxygen_generator_data[\"decimal\"] * CO2_scrubber_data[\"decimal\"]\n",
    "    })\n",
    "    result[\"binary\"] = [bin(decimal).replace(\"0b\", \"\") for decimal in result[\"decimal\"]]\n",
    "\n",
    "    return result"
   ]
  },
  {
   "cell_type": "markdown",
   "metadata": {},
   "source": [
    "### Result"
   ]
  },
  {
   "cell_type": "code",
   "execution_count": 424,
   "metadata": {},
   "outputs": [
    {
     "name": "stdout",
     "output_type": "stream",
     "text": [
      "Example :  230\n",
      "Input :  5410338\n"
     ]
    }
   ],
   "source": [
    "#Example\n",
    "CO2_scrubber_data = CO2_scrubber_rating(example)\n",
    "oxygen_generator_data = oxygen_generator_rating(example)\n",
    "life_support_data = life_support_rating(oxygen_generator_data, CO2_scrubber_data)\n",
    "\n",
    "result = life_support_data[\"decimal\"].tolist()[0]\n",
    "\n",
    "print(\n",
    "    \"Example : \", result\n",
    ")\n",
    "#Input\n",
    "CO2_scrubber_data = CO2_scrubber_rating(input)\n",
    "oxygen_generator_data = oxygen_generator_rating(input)\n",
    "life_support_data = life_support_rating(oxygen_generator_data, CO2_scrubber_data)\n",
    "\n",
    "result = life_support_data[\"decimal\"].tolist()[0]\n",
    "\n",
    "print(\n",
    "    \"Input : \", result\n",
    ")\n"
   ]
  }
 ],
 "metadata": {
  "interpreter": {
   "hash": "d7077cd4f0110cf56b68be09d8c98dad0cd4c1457c23ccb655792174161d32c0"
  },
  "kernelspec": {
   "display_name": "Julia 1.7.0",
   "language": "python",
   "name": "python3"
  },
  "language_info": {
   "codemirror_mode": {
    "name": "ipython",
    "version": 3
   },
   "file_extension": ".py",
   "mimetype": "text/x-python",
   "name": "python",
   "nbconvert_exporter": "python",
   "pygments_lexer": "ipython3",
   "version": "3.7.3"
  },
  "orig_nbformat": 4
 },
 "nbformat": 4,
 "nbformat_minor": 2
}
